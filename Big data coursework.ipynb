{
 "cells": [
  {
   "cell_type": "markdown",
   "metadata": {
    "id": "jZeuw3MF-Y6v"
   },
   "source": [
    "# **ANALYSIS OF MACHINE LEARNING MODELS FOR AIRLINE PASSENGER'S SATISFACTION USING PYSPARK**\n",
    "\n",
    "---\n",
    "---\n",
    "\n",
    "\n"
   ]
  },
  {
   "cell_type": "markdown",
   "metadata": {
    "id": "o1_DemDz9yty"
   },
   "source": [
    "We wanted to understand what factors make airline passengers more or less satisfied with their flight experience. By studying this, airlines could improve services and prioritize what passengers care most about.\n",
    "\n",
    "To do this, we employed four machine learning models (logistic regression, Support Vector Machine, Random Forest and Gradient Boosted Tree) to help predict whether a passenger is satisfied or not based on other related information such as the comfort of the seats, inflight Wi-Fi service, distance traveled, etc. We were also able to determine which factors are most important for passenger satisfaction.\n",
    "\n"
   ]
  },
  {
   "cell_type": "code",
   "execution_count": 1,
   "metadata": {
    "id": "ZyuTWI7W9s_U"
   },
   "outputs": [],
   "source": [
    "#Importing Data Exploratory libraries\n",
    "import pandas as pd\n",
    "import numpy as np\n",
    "import matplotlib.pyplot as plt\n",
    "import seaborn as sns"
   ]
  },
  {
   "cell_type": "code",
   "execution_count": 2,
   "metadata": {
    "id": "9a5WmXPz97XN"
   },
   "outputs": [
    {
     "data": {
      "text/html": [
       "<div>\n",
       "<style scoped>\n",
       "    .dataframe tbody tr th:only-of-type {\n",
       "        vertical-align: middle;\n",
       "    }\n",
       "\n",
       "    .dataframe tbody tr th {\n",
       "        vertical-align: top;\n",
       "    }\n",
       "\n",
       "    .dataframe thead th {\n",
       "        text-align: right;\n",
       "    }\n",
       "</style>\n",
       "<table border=\"1\" class=\"dataframe\">\n",
       "  <thead>\n",
       "    <tr style=\"text-align: right;\">\n",
       "      <th></th>\n",
       "      <th>ID</th>\n",
       "      <th>Gender</th>\n",
       "      <th>Age</th>\n",
       "      <th>Customer Type</th>\n",
       "      <th>Type of Travel</th>\n",
       "      <th>Class</th>\n",
       "      <th>Flight Distance</th>\n",
       "      <th>Departure Delay</th>\n",
       "      <th>Arrival Delay</th>\n",
       "      <th>Departure and Arrival Time Convenience</th>\n",
       "      <th>...</th>\n",
       "      <th>On-board Service</th>\n",
       "      <th>Seat Comfort</th>\n",
       "      <th>Leg Room Service</th>\n",
       "      <th>Cleanliness</th>\n",
       "      <th>Food and Drink</th>\n",
       "      <th>In-flight Service</th>\n",
       "      <th>In-flight Wifi Service</th>\n",
       "      <th>In-flight Entertainment</th>\n",
       "      <th>Baggage Handling</th>\n",
       "      <th>Satisfaction</th>\n",
       "    </tr>\n",
       "  </thead>\n",
       "  <tbody>\n",
       "    <tr>\n",
       "      <th>0</th>\n",
       "      <td>1</td>\n",
       "      <td>Male</td>\n",
       "      <td>48</td>\n",
       "      <td>First-time</td>\n",
       "      <td>Business</td>\n",
       "      <td>Business</td>\n",
       "      <td>821</td>\n",
       "      <td>2</td>\n",
       "      <td>5.0</td>\n",
       "      <td>3</td>\n",
       "      <td>...</td>\n",
       "      <td>3</td>\n",
       "      <td>5</td>\n",
       "      <td>2</td>\n",
       "      <td>5</td>\n",
       "      <td>5</td>\n",
       "      <td>5</td>\n",
       "      <td>3</td>\n",
       "      <td>5</td>\n",
       "      <td>5</td>\n",
       "      <td>Neutral or Dissatisfied</td>\n",
       "    </tr>\n",
       "    <tr>\n",
       "      <th>1</th>\n",
       "      <td>2</td>\n",
       "      <td>Female</td>\n",
       "      <td>35</td>\n",
       "      <td>Returning</td>\n",
       "      <td>Business</td>\n",
       "      <td>Business</td>\n",
       "      <td>821</td>\n",
       "      <td>26</td>\n",
       "      <td>39.0</td>\n",
       "      <td>2</td>\n",
       "      <td>...</td>\n",
       "      <td>5</td>\n",
       "      <td>4</td>\n",
       "      <td>5</td>\n",
       "      <td>5</td>\n",
       "      <td>3</td>\n",
       "      <td>5</td>\n",
       "      <td>2</td>\n",
       "      <td>5</td>\n",
       "      <td>5</td>\n",
       "      <td>Satisfied</td>\n",
       "    </tr>\n",
       "    <tr>\n",
       "      <th>2</th>\n",
       "      <td>3</td>\n",
       "      <td>Male</td>\n",
       "      <td>41</td>\n",
       "      <td>Returning</td>\n",
       "      <td>Business</td>\n",
       "      <td>Business</td>\n",
       "      <td>853</td>\n",
       "      <td>0</td>\n",
       "      <td>0.0</td>\n",
       "      <td>4</td>\n",
       "      <td>...</td>\n",
       "      <td>3</td>\n",
       "      <td>5</td>\n",
       "      <td>3</td>\n",
       "      <td>5</td>\n",
       "      <td>5</td>\n",
       "      <td>3</td>\n",
       "      <td>4</td>\n",
       "      <td>3</td>\n",
       "      <td>3</td>\n",
       "      <td>Satisfied</td>\n",
       "    </tr>\n",
       "    <tr>\n",
       "      <th>3</th>\n",
       "      <td>4</td>\n",
       "      <td>Male</td>\n",
       "      <td>50</td>\n",
       "      <td>Returning</td>\n",
       "      <td>Business</td>\n",
       "      <td>Business</td>\n",
       "      <td>1905</td>\n",
       "      <td>0</td>\n",
       "      <td>0.0</td>\n",
       "      <td>2</td>\n",
       "      <td>...</td>\n",
       "      <td>5</td>\n",
       "      <td>5</td>\n",
       "      <td>5</td>\n",
       "      <td>4</td>\n",
       "      <td>4</td>\n",
       "      <td>5</td>\n",
       "      <td>2</td>\n",
       "      <td>5</td>\n",
       "      <td>5</td>\n",
       "      <td>Satisfied</td>\n",
       "    </tr>\n",
       "    <tr>\n",
       "      <th>4</th>\n",
       "      <td>5</td>\n",
       "      <td>Female</td>\n",
       "      <td>49</td>\n",
       "      <td>Returning</td>\n",
       "      <td>Business</td>\n",
       "      <td>Business</td>\n",
       "      <td>3470</td>\n",
       "      <td>0</td>\n",
       "      <td>1.0</td>\n",
       "      <td>3</td>\n",
       "      <td>...</td>\n",
       "      <td>3</td>\n",
       "      <td>4</td>\n",
       "      <td>4</td>\n",
       "      <td>5</td>\n",
       "      <td>4</td>\n",
       "      <td>3</td>\n",
       "      <td>3</td>\n",
       "      <td>3</td>\n",
       "      <td>3</td>\n",
       "      <td>Satisfied</td>\n",
       "    </tr>\n",
       "  </tbody>\n",
       "</table>\n",
       "<p>5 rows × 24 columns</p>\n",
       "</div>"
      ],
      "text/plain": [
       "   ID  Gender  Age Customer Type Type of Travel     Class  Flight Distance  \\\n",
       "0   1    Male   48    First-time       Business  Business              821   \n",
       "1   2  Female   35     Returning       Business  Business              821   \n",
       "2   3    Male   41     Returning       Business  Business              853   \n",
       "3   4    Male   50     Returning       Business  Business             1905   \n",
       "4   5  Female   49     Returning       Business  Business             3470   \n",
       "\n",
       "   Departure Delay  Arrival Delay  Departure and Arrival Time Convenience  \\\n",
       "0                2            5.0                                       3   \n",
       "1               26           39.0                                       2   \n",
       "2                0            0.0                                       4   \n",
       "3                0            0.0                                       2   \n",
       "4                0            1.0                                       3   \n",
       "\n",
       "   ...  On-board Service  Seat Comfort  Leg Room Service  Cleanliness  \\\n",
       "0  ...                 3             5                 2            5   \n",
       "1  ...                 5             4                 5            5   \n",
       "2  ...                 3             5                 3            5   \n",
       "3  ...                 5             5                 5            4   \n",
       "4  ...                 3             4                 4            5   \n",
       "\n",
       "   Food and Drink  In-flight Service  In-flight Wifi Service  \\\n",
       "0               5                  5                       3   \n",
       "1               3                  5                       2   \n",
       "2               5                  3                       4   \n",
       "3               4                  5                       2   \n",
       "4               4                  3                       3   \n",
       "\n",
       "   In-flight Entertainment  Baggage Handling             Satisfaction  \n",
       "0                        5                 5  Neutral or Dissatisfied  \n",
       "1                        5                 5                Satisfied  \n",
       "2                        3                 3                Satisfied  \n",
       "3                        5                 5                Satisfied  \n",
       "4                        3                 3                Satisfied  \n",
       "\n",
       "[5 rows x 24 columns]"
      ]
     },
     "execution_count": 2,
     "metadata": {},
     "output_type": "execute_result"
    }
   ],
   "source": [
    "#Loading the dataset\n",
    "\n",
    "data = pd.read_csv('airline_passenger_satisfaction.csv')\n",
    "data.head()"
   ]
  },
  {
   "cell_type": "code",
   "execution_count": 3,
   "metadata": {
    "id": "jJeN1ssy9-HH"
   },
   "outputs": [
    {
     "data": {
      "text/plain": [
       "(129880, 24)"
      ]
     },
     "execution_count": 3,
     "metadata": {},
     "output_type": "execute_result"
    }
   ],
   "source": [
    "#Checking the number of rows and columns\n",
    "\n",
    "data.shape"
   ]
  },
  {
   "cell_type": "code",
   "execution_count": 4,
   "metadata": {
    "id": "59G6Y95r-BMx"
   },
   "outputs": [
    {
     "name": "stdout",
     "output_type": "stream",
     "text": [
      "<class 'pandas.core.frame.DataFrame'>\n",
      "RangeIndex: 129880 entries, 0 to 129879\n",
      "Data columns (total 24 columns):\n",
      " #   Column                                  Non-Null Count   Dtype  \n",
      "---  ------                                  --------------   -----  \n",
      " 0   ID                                      129880 non-null  int64  \n",
      " 1   Gender                                  129880 non-null  object \n",
      " 2   Age                                     129880 non-null  int64  \n",
      " 3   Customer Type                           129880 non-null  object \n",
      " 4   Type of Travel                          129880 non-null  object \n",
      " 5   Class                                   129880 non-null  object \n",
      " 6   Flight Distance                         129880 non-null  int64  \n",
      " 7   Departure Delay                         129880 non-null  int64  \n",
      " 8   Arrival Delay                           129487 non-null  float64\n",
      " 9   Departure and Arrival Time Convenience  129880 non-null  int64  \n",
      " 10  Ease of Online Booking                  129880 non-null  int64  \n",
      " 11  Check-in Service                        129880 non-null  int64  \n",
      " 12  Online Boarding                         129880 non-null  int64  \n",
      " 13  Gate Location                           129880 non-null  int64  \n",
      " 14  On-board Service                        129880 non-null  int64  \n",
      " 15  Seat Comfort                            129880 non-null  int64  \n",
      " 16  Leg Room Service                        129880 non-null  int64  \n",
      " 17  Cleanliness                             129880 non-null  int64  \n",
      " 18  Food and Drink                          129880 non-null  int64  \n",
      " 19  In-flight Service                       129880 non-null  int64  \n",
      " 20  In-flight Wifi Service                  129880 non-null  int64  \n",
      " 21  In-flight Entertainment                 129880 non-null  int64  \n",
      " 22  Baggage Handling                        129880 non-null  int64  \n",
      " 23  Satisfaction                            129880 non-null  object \n",
      "dtypes: float64(1), int64(18), object(5)\n",
      "memory usage: 23.8+ MB\n"
     ]
    }
   ],
   "source": [
    "#Checking information about the dataset\n",
    "\n",
    "data.info()"
   ]
  },
  {
   "cell_type": "code",
   "execution_count": 5,
   "metadata": {
    "id": "6LlhAVrZ-Dfv"
   },
   "outputs": [
    {
     "data": {
      "text/plain": [
       "ID                                          0\n",
       "Gender                                      0\n",
       "Age                                         0\n",
       "Customer Type                               0\n",
       "Type of Travel                              0\n",
       "Class                                       0\n",
       "Flight Distance                             0\n",
       "Departure Delay                             0\n",
       "Arrival Delay                             393\n",
       "Departure and Arrival Time Convenience      0\n",
       "Ease of Online Booking                      0\n",
       "Check-in Service                            0\n",
       "Online Boarding                             0\n",
       "Gate Location                               0\n",
       "On-board Service                            0\n",
       "Seat Comfort                                0\n",
       "Leg Room Service                            0\n",
       "Cleanliness                                 0\n",
       "Food and Drink                              0\n",
       "In-flight Service                           0\n",
       "In-flight Wifi Service                      0\n",
       "In-flight Entertainment                     0\n",
       "Baggage Handling                            0\n",
       "Satisfaction                                0\n",
       "dtype: int64"
      ]
     },
     "execution_count": 5,
     "metadata": {},
     "output_type": "execute_result"
    }
   ],
   "source": [
    "#Checking the columns with null values\n",
    "\n",
    "data.isnull().sum()"
   ]
  },
  {
   "cell_type": "code",
   "execution_count": 6,
   "metadata": {
    "id": "xEZY00jJ-Fye"
   },
   "outputs": [
    {
     "data": {
      "text/plain": [
       "(129487, 24)"
      ]
     },
     "execution_count": 6,
     "metadata": {},
     "output_type": "execute_result"
    }
   ],
   "source": [
    "#Drop the null values since they are less than 10% of the data\n",
    "\n",
    "data.dropna(inplace=True)\n",
    "data.shape"
   ]
  },
  {
   "cell_type": "code",
   "execution_count": 7,
   "metadata": {
    "id": "AsGyyXwK-Hwg"
   },
   "outputs": [
    {
     "data": {
      "text/html": [
       "<div>\n",
       "<style scoped>\n",
       "    .dataframe tbody tr th:only-of-type {\n",
       "        vertical-align: middle;\n",
       "    }\n",
       "\n",
       "    .dataframe tbody tr th {\n",
       "        vertical-align: top;\n",
       "    }\n",
       "\n",
       "    .dataframe thead th {\n",
       "        text-align: right;\n",
       "    }\n",
       "</style>\n",
       "<table border=\"1\" class=\"dataframe\">\n",
       "  <thead>\n",
       "    <tr style=\"text-align: right;\">\n",
       "      <th></th>\n",
       "      <th>ID</th>\n",
       "      <th>Age</th>\n",
       "      <th>Flight Distance</th>\n",
       "      <th>Departure Delay</th>\n",
       "      <th>Arrival Delay</th>\n",
       "      <th>Departure and Arrival Time Convenience</th>\n",
       "      <th>Ease of Online Booking</th>\n",
       "      <th>Check-in Service</th>\n",
       "      <th>Online Boarding</th>\n",
       "      <th>Gate Location</th>\n",
       "      <th>On-board Service</th>\n",
       "      <th>Seat Comfort</th>\n",
       "      <th>Leg Room Service</th>\n",
       "      <th>Cleanliness</th>\n",
       "      <th>Food and Drink</th>\n",
       "      <th>In-flight Service</th>\n",
       "      <th>In-flight Wifi Service</th>\n",
       "      <th>In-flight Entertainment</th>\n",
       "      <th>Baggage Handling</th>\n",
       "    </tr>\n",
       "  </thead>\n",
       "  <tbody>\n",
       "    <tr>\n",
       "      <th>count</th>\n",
       "      <td>129487.000000</td>\n",
       "      <td>129487.000000</td>\n",
       "      <td>129487.000000</td>\n",
       "      <td>129487.000000</td>\n",
       "      <td>129487.000000</td>\n",
       "      <td>129487.000000</td>\n",
       "      <td>129487.000000</td>\n",
       "      <td>129487.000000</td>\n",
       "      <td>129487.000000</td>\n",
       "      <td>129487.000000</td>\n",
       "      <td>129487.000000</td>\n",
       "      <td>129487.000000</td>\n",
       "      <td>129487.000000</td>\n",
       "      <td>129487.000000</td>\n",
       "      <td>129487.000000</td>\n",
       "      <td>129487.000000</td>\n",
       "      <td>129487.000000</td>\n",
       "      <td>129487.000000</td>\n",
       "      <td>129487.000000</td>\n",
       "    </tr>\n",
       "    <tr>\n",
       "      <th>mean</th>\n",
       "      <td>64958.335169</td>\n",
       "      <td>39.428761</td>\n",
       "      <td>1190.210662</td>\n",
       "      <td>14.643385</td>\n",
       "      <td>15.091129</td>\n",
       "      <td>3.057349</td>\n",
       "      <td>2.756786</td>\n",
       "      <td>3.306239</td>\n",
       "      <td>3.252720</td>\n",
       "      <td>2.976909</td>\n",
       "      <td>3.383204</td>\n",
       "      <td>3.441589</td>\n",
       "      <td>3.351078</td>\n",
       "      <td>3.286222</td>\n",
       "      <td>3.204685</td>\n",
       "      <td>3.642373</td>\n",
       "      <td>2.728544</td>\n",
       "      <td>3.358067</td>\n",
       "      <td>3.631886</td>\n",
       "    </tr>\n",
       "    <tr>\n",
       "      <th>std</th>\n",
       "      <td>37489.781165</td>\n",
       "      <td>15.117597</td>\n",
       "      <td>997.560954</td>\n",
       "      <td>37.932867</td>\n",
       "      <td>38.465650</td>\n",
       "      <td>1.526787</td>\n",
       "      <td>1.401662</td>\n",
       "      <td>1.266146</td>\n",
       "      <td>1.350651</td>\n",
       "      <td>1.278506</td>\n",
       "      <td>1.287032</td>\n",
       "      <td>1.319168</td>\n",
       "      <td>1.316132</td>\n",
       "      <td>1.313624</td>\n",
       "      <td>1.329905</td>\n",
       "      <td>1.176614</td>\n",
       "      <td>1.329235</td>\n",
       "      <td>1.334149</td>\n",
       "      <td>1.180082</td>\n",
       "    </tr>\n",
       "    <tr>\n",
       "      <th>min</th>\n",
       "      <td>1.000000</td>\n",
       "      <td>7.000000</td>\n",
       "      <td>31.000000</td>\n",
       "      <td>0.000000</td>\n",
       "      <td>0.000000</td>\n",
       "      <td>0.000000</td>\n",
       "      <td>0.000000</td>\n",
       "      <td>0.000000</td>\n",
       "      <td>0.000000</td>\n",
       "      <td>0.000000</td>\n",
       "      <td>0.000000</td>\n",
       "      <td>0.000000</td>\n",
       "      <td>0.000000</td>\n",
       "      <td>0.000000</td>\n",
       "      <td>0.000000</td>\n",
       "      <td>0.000000</td>\n",
       "      <td>0.000000</td>\n",
       "      <td>0.000000</td>\n",
       "      <td>1.000000</td>\n",
       "    </tr>\n",
       "    <tr>\n",
       "      <th>25%</th>\n",
       "      <td>32494.500000</td>\n",
       "      <td>27.000000</td>\n",
       "      <td>414.000000</td>\n",
       "      <td>0.000000</td>\n",
       "      <td>0.000000</td>\n",
       "      <td>2.000000</td>\n",
       "      <td>2.000000</td>\n",
       "      <td>3.000000</td>\n",
       "      <td>2.000000</td>\n",
       "      <td>2.000000</td>\n",
       "      <td>2.000000</td>\n",
       "      <td>2.000000</td>\n",
       "      <td>2.000000</td>\n",
       "      <td>2.000000</td>\n",
       "      <td>2.000000</td>\n",
       "      <td>3.000000</td>\n",
       "      <td>2.000000</td>\n",
       "      <td>2.000000</td>\n",
       "      <td>3.000000</td>\n",
       "    </tr>\n",
       "    <tr>\n",
       "      <th>50%</th>\n",
       "      <td>64972.000000</td>\n",
       "      <td>40.000000</td>\n",
       "      <td>844.000000</td>\n",
       "      <td>0.000000</td>\n",
       "      <td>0.000000</td>\n",
       "      <td>3.000000</td>\n",
       "      <td>3.000000</td>\n",
       "      <td>3.000000</td>\n",
       "      <td>3.000000</td>\n",
       "      <td>3.000000</td>\n",
       "      <td>4.000000</td>\n",
       "      <td>4.000000</td>\n",
       "      <td>4.000000</td>\n",
       "      <td>3.000000</td>\n",
       "      <td>3.000000</td>\n",
       "      <td>4.000000</td>\n",
       "      <td>3.000000</td>\n",
       "      <td>4.000000</td>\n",
       "      <td>4.000000</td>\n",
       "    </tr>\n",
       "    <tr>\n",
       "      <th>75%</th>\n",
       "      <td>97415.500000</td>\n",
       "      <td>51.000000</td>\n",
       "      <td>1744.000000</td>\n",
       "      <td>12.000000</td>\n",
       "      <td>13.000000</td>\n",
       "      <td>4.000000</td>\n",
       "      <td>4.000000</td>\n",
       "      <td>4.000000</td>\n",
       "      <td>4.000000</td>\n",
       "      <td>4.000000</td>\n",
       "      <td>4.000000</td>\n",
       "      <td>5.000000</td>\n",
       "      <td>4.000000</td>\n",
       "      <td>4.000000</td>\n",
       "      <td>4.000000</td>\n",
       "      <td>5.000000</td>\n",
       "      <td>4.000000</td>\n",
       "      <td>4.000000</td>\n",
       "      <td>5.000000</td>\n",
       "    </tr>\n",
       "    <tr>\n",
       "      <th>max</th>\n",
       "      <td>129880.000000</td>\n",
       "      <td>85.000000</td>\n",
       "      <td>4983.000000</td>\n",
       "      <td>1592.000000</td>\n",
       "      <td>1584.000000</td>\n",
       "      <td>5.000000</td>\n",
       "      <td>5.000000</td>\n",
       "      <td>5.000000</td>\n",
       "      <td>5.000000</td>\n",
       "      <td>5.000000</td>\n",
       "      <td>5.000000</td>\n",
       "      <td>5.000000</td>\n",
       "      <td>5.000000</td>\n",
       "      <td>5.000000</td>\n",
       "      <td>5.000000</td>\n",
       "      <td>5.000000</td>\n",
       "      <td>5.000000</td>\n",
       "      <td>5.000000</td>\n",
       "      <td>5.000000</td>\n",
       "    </tr>\n",
       "  </tbody>\n",
       "</table>\n",
       "</div>"
      ],
      "text/plain": [
       "                  ID            Age  Flight Distance  Departure Delay  \\\n",
       "count  129487.000000  129487.000000    129487.000000    129487.000000   \n",
       "mean    64958.335169      39.428761      1190.210662        14.643385   \n",
       "std     37489.781165      15.117597       997.560954        37.932867   \n",
       "min         1.000000       7.000000        31.000000         0.000000   \n",
       "25%     32494.500000      27.000000       414.000000         0.000000   \n",
       "50%     64972.000000      40.000000       844.000000         0.000000   \n",
       "75%     97415.500000      51.000000      1744.000000        12.000000   \n",
       "max    129880.000000      85.000000      4983.000000      1592.000000   \n",
       "\n",
       "       Arrival Delay  Departure and Arrival Time Convenience  \\\n",
       "count  129487.000000                           129487.000000   \n",
       "mean       15.091129                                3.057349   \n",
       "std        38.465650                                1.526787   \n",
       "min         0.000000                                0.000000   \n",
       "25%         0.000000                                2.000000   \n",
       "50%         0.000000                                3.000000   \n",
       "75%        13.000000                                4.000000   \n",
       "max      1584.000000                                5.000000   \n",
       "\n",
       "       Ease of Online Booking  Check-in Service  Online Boarding  \\\n",
       "count           129487.000000     129487.000000    129487.000000   \n",
       "mean                 2.756786          3.306239         3.252720   \n",
       "std                  1.401662          1.266146         1.350651   \n",
       "min                  0.000000          0.000000         0.000000   \n",
       "25%                  2.000000          3.000000         2.000000   \n",
       "50%                  3.000000          3.000000         3.000000   \n",
       "75%                  4.000000          4.000000         4.000000   \n",
       "max                  5.000000          5.000000         5.000000   \n",
       "\n",
       "       Gate Location  On-board Service   Seat Comfort  Leg Room Service  \\\n",
       "count  129487.000000     129487.000000  129487.000000     129487.000000   \n",
       "mean        2.976909          3.383204       3.441589          3.351078   \n",
       "std         1.278506          1.287032       1.319168          1.316132   \n",
       "min         0.000000          0.000000       0.000000          0.000000   \n",
       "25%         2.000000          2.000000       2.000000          2.000000   \n",
       "50%         3.000000          4.000000       4.000000          4.000000   \n",
       "75%         4.000000          4.000000       5.000000          4.000000   \n",
       "max         5.000000          5.000000       5.000000          5.000000   \n",
       "\n",
       "         Cleanliness  Food and Drink  In-flight Service  \\\n",
       "count  129487.000000   129487.000000      129487.000000   \n",
       "mean        3.286222        3.204685           3.642373   \n",
       "std         1.313624        1.329905           1.176614   \n",
       "min         0.000000        0.000000           0.000000   \n",
       "25%         2.000000        2.000000           3.000000   \n",
       "50%         3.000000        3.000000           4.000000   \n",
       "75%         4.000000        4.000000           5.000000   \n",
       "max         5.000000        5.000000           5.000000   \n",
       "\n",
       "       In-flight Wifi Service  In-flight Entertainment  Baggage Handling  \n",
       "count           129487.000000            129487.000000     129487.000000  \n",
       "mean                 2.728544                 3.358067          3.631886  \n",
       "std                  1.329235                 1.334149          1.180082  \n",
       "min                  0.000000                 0.000000          1.000000  \n",
       "25%                  2.000000                 2.000000          3.000000  \n",
       "50%                  3.000000                 4.000000          4.000000  \n",
       "75%                  4.000000                 4.000000          5.000000  \n",
       "max                  5.000000                 5.000000          5.000000  "
      ]
     },
     "execution_count": 7,
     "metadata": {},
     "output_type": "execute_result"
    }
   ],
   "source": [
    "#Description statistics of the dataset\n",
    "\n",
    "data.describe()"
   ]
  },
  {
   "cell_type": "code",
   "execution_count": 8,
   "metadata": {
    "id": "_mSn8yoV-KaN"
   },
   "outputs": [
    {
     "data": {
      "text/plain": [
       "ID                                        129487\n",
       "Gender                                         2\n",
       "Age                                           75\n",
       "Customer Type                                  2\n",
       "Type of Travel                                 2\n",
       "Class                                          3\n",
       "Flight Distance                             3821\n",
       "Departure Delay                              464\n",
       "Arrival Delay                                472\n",
       "Departure and Arrival Time Convenience         6\n",
       "Ease of Online Booking                         6\n",
       "Check-in Service                               6\n",
       "Online Boarding                                6\n",
       "Gate Location                                  6\n",
       "On-board Service                               6\n",
       "Seat Comfort                                   6\n",
       "Leg Room Service                               6\n",
       "Cleanliness                                    6\n",
       "Food and Drink                                 6\n",
       "In-flight Service                              6\n",
       "In-flight Wifi Service                         6\n",
       "In-flight Entertainment                        6\n",
       "Baggage Handling                               5\n",
       "Satisfaction                                   2\n",
       "dtype: int64"
      ]
     },
     "execution_count": 8,
     "metadata": {},
     "output_type": "execute_result"
    }
   ],
   "source": [
    "#Checking the number of unique values each column has\n",
    "\n",
    "data.nunique()"
   ]
  },
  {
   "cell_type": "code",
   "execution_count": 9,
   "metadata": {
    "id": "rMcRl4eC-gxo"
   },
   "outputs": [
    {
     "data": {
      "text/plain": [
       "(129376, 24)"
      ]
     },
     "execution_count": 9,
     "metadata": {},
     "output_type": "execute_result"
    }
   ],
   "source": [
    "#Dropping outlier data\n",
    "\n",
    "arr_delay_outlier = data['Arrival Delay'] < 650\n",
    "dep_delay_outlier = data['Departure Delay'] < 650\n",
    "flight_dist_outlier = data['Flight Distance'] < 4000\n",
    "Data = data[arr_delay_outlier & dep_delay_outlier & flight_dist_outlier]\n",
    "Data.shape"
   ]
  },
  {
   "cell_type": "markdown",
   "metadata": {
    "id": "QLahbuRU-Vg0"
   },
   "source": [
    "**PYSPARK ENVIRONMENT**"
   ]
  },
  {
   "cell_type": "code",
   "execution_count": 10,
   "metadata": {
    "id": "32zPk_Hg-bCq"
   },
   "outputs": [],
   "source": [
    "#pyspark environment\n",
    "import findspark\n",
    "findspark.init()\n",
    "findspark.find()\n",
    "import pyspark"
   ]
  },
  {
   "cell_type": "code",
   "execution_count": 11,
   "metadata": {
    "id": "FRjd9bqD-ky7"
   },
   "outputs": [],
   "source": [
    "#Importing the required spark libraries\n",
    "from pyspark.sql import SparkSession\n",
    "from pyspark.ml.linalg import Vectors\n",
    "from pyspark.ml.feature import VectorAssembler, StringIndexer\n",
    "from pyspark.ml.classification import LogisticRegression, LinearSVC, RandomForestClassifier, GBTClassifier\n",
    "from pyspark.ml.evaluation import MulticlassClassificationEvaluator, BinaryClassificationEvaluator\n",
    "from pyspark.mllib.evaluation import MulticlassMetrics\n",
    "from pyspark.ml.tuning import CrossValidator, ParamGridBuilder"
   ]
  },
  {
   "cell_type": "code",
   "execution_count": 12,
   "metadata": {},
   "outputs": [],
   "source": [
    "from pyspark import SparkContext \n",
    "SparkContext.getOrCreate().stop() "
   ]
  },
  {
   "cell_type": "code",
   "execution_count": 13,
   "metadata": {},
   "outputs": [],
   "source": [
    "#Initialising the Spark Session\n",
    "spark = SparkSession.builder.master(\"local[*]\")\\\n",
    "        .appName(\"AirlineSatisfaction_RF\")\\\n",
    "        .config(\"spark.executor.memory\", \"4g\")\\\n",
    "        .config(\"spark.driver.memory\", \"4g\")\\\n",
    "        .config(\"spark.network.timeout\", \"800s\")\\\n",
    "        .config(\"spark.executor.heartbeatInterval\", \"100s\")\\\n",
    "        .getOrCreate()"
   ]
  },
  {
   "cell_type": "code",
   "execution_count": 14,
   "metadata": {
    "id": "MrUkbpuz-o3p"
   },
   "outputs": [],
   "source": [
    "\n",
    "#spark = SparkSession.builder.appName('AirlineSatisfaction_RF').getOrCreate()"
   ]
  },
  {
   "cell_type": "code",
   "execution_count": 15,
   "metadata": {
    "id": "7C2L8hrZ-rVV"
   },
   "outputs": [
    {
     "name": "stdout",
     "output_type": "stream",
     "text": [
      "root\n",
      " |-- ID: long (nullable = true)\n",
      " |-- Gender: string (nullable = true)\n",
      " |-- Age: long (nullable = true)\n",
      " |-- Customer Type: string (nullable = true)\n",
      " |-- Type of Travel: string (nullable = true)\n",
      " |-- Class: string (nullable = true)\n",
      " |-- Flight Distance: long (nullable = true)\n",
      " |-- Departure Delay: long (nullable = true)\n",
      " |-- Arrival Delay: double (nullable = true)\n",
      " |-- Departure and Arrival Time Convenience: long (nullable = true)\n",
      " |-- Ease of Online Booking: long (nullable = true)\n",
      " |-- Check-in Service: long (nullable = true)\n",
      " |-- Online Boarding: long (nullable = true)\n",
      " |-- Gate Location: long (nullable = true)\n",
      " |-- On-board Service: long (nullable = true)\n",
      " |-- Seat Comfort: long (nullable = true)\n",
      " |-- Leg Room Service: long (nullable = true)\n",
      " |-- Cleanliness: long (nullable = true)\n",
      " |-- Food and Drink: long (nullable = true)\n",
      " |-- In-flight Service: long (nullable = true)\n",
      " |-- In-flight Wifi Service: long (nullable = true)\n",
      " |-- In-flight Entertainment: long (nullable = true)\n",
      " |-- Baggage Handling: long (nullable = true)\n",
      " |-- Satisfaction: string (nullable = true)\n",
      "\n"
     ]
    }
   ],
   "source": [
    "#Load the RF dataset\n",
    "\n",
    "New_Data = spark.createDataFrame(Data, verifySchema=True)\n",
    "New_Data.printSchema()"
   ]
  },
  {
   "cell_type": "code",
   "execution_count": 16,
   "metadata": {
    "id": "BjinYEwE-uye"
   },
   "outputs": [],
   "source": [
    "#Indexing categorical columns\n",
    "\n",
    "#Satisfaction column\n",
    "satisfaction_indexer = StringIndexer(inputCol='Satisfaction', outputCol='label')\n",
    "New_Data = satisfaction_indexer.fit(New_Data).transform(New_Data)\n",
    "\n",
    "#Gender column\n",
    "gender_indexer = StringIndexer(inputCol='Gender', outputCol='Gender_Index')\n",
    "New_Data = gender_indexer.fit(New_Data).transform(New_Data)\n",
    "\n",
    "#Customer Type column\n",
    "customer_type_indexer = StringIndexer(inputCol='Customer Type', outputCol='Customer_Type_Index')\n",
    "New_Data = customer_type_indexer.fit(New_Data).transform(New_Data)\n",
    "\n",
    "#Type of Travel column\n",
    "type_of_travel_indexer = StringIndexer(inputCol='Type of Travel', outputCol='Type_of_Travel_Index')\n",
    "New_Data = type_of_travel_indexer.fit(New_Data).transform(New_Data)\n",
    "#Class column\n",
    "class_indexer = StringIndexer(inputCol='Class', outputCol='Class_Index')\n",
    "New_Data = class_indexer.fit(New_Data).transform(New_Data)\n",
    "\n",
    "#Departure and Arrival Time Convenience column\n",
    "Arrival_Depart_Conv_indexer = StringIndexer(inputCol='Departure and Arrival Time Convenience', outputCol='Arr_Dept_Time_Cov_Index')\n",
    "New_Data = Arrival_Depart_Conv_indexer.fit(New_Data).transform(New_Data)\n",
    "\n",
    "#Ease of Online Booking column\n",
    "Ease_of_Online_Booking_indexer = StringIndexer(inputCol='Ease of Online Booking', outputCol='Ease_of_Online_Booking_Index')\n",
    "New_Data = Ease_of_Online_Booking_indexer.fit(New_Data).transform(New_Data)\n",
    "\n",
    "#Check-in Service column\n",
    "Check_in_Service_indexer = StringIndexer(inputCol='Check-in Service', outputCol='Check_in_Service_Index')\n",
    "New_Data = Check_in_Service_indexer.fit(New_Data).transform(New_Data)\n",
    "\n",
    "#Online Boarding column\n",
    "Online_Boarding_indexer = StringIndexer(inputCol='Online Boarding', outputCol='Online_Boarding_Index')\n",
    "New_Data = Online_Boarding_indexer.fit(New_Data).transform(New_Data)\n",
    "\n",
    "#Gate Location column\n",
    "Gate_Location_indexer = StringIndexer(inputCol='Gate Location', outputCol='Gate_Location_Index')\n",
    "New_Data = Gate_Location_indexer.fit(New_Data).transform(New_Data)\n",
    "\n",
    "#On-board Service column\n",
    "Onboard_Service_indexer = StringIndexer(inputCol='On-board Service', outputCol='Onboard_Service_Index')\n",
    "New_Data = Onboard_Service_indexer.fit(New_Data).transform(New_Data)\n",
    "\n",
    "#Seat Comfort column\n",
    "Seat_Comfort_indexer = StringIndexer(inputCol='Seat Comfort', outputCol='Seat_Comfort_Index')\n",
    "New_Data = Seat_Comfort_indexer.fit(New_Data).transform(New_Data)\n",
    "\n",
    "#Leg Rom Service column\n",
    "Leg_Room_Service_indexer = StringIndexer(inputCol='Leg Room Service', outputCol='Leg_Room_Service_Index')\n",
    "New_Data = Leg_Room_Service_indexer.fit(New_Data).transform(New_Data)\n",
    "\n",
    "#Cleanliness column\n",
    "Cleanliness_indexer = StringIndexer(inputCol='Cleanliness', outputCol='Cleanliness_Index')\n",
    "New_Data = Cleanliness_indexer.fit(New_Data).transform(New_Data)\n",
    "\n",
    "#Food and Drink column\n",
    "Food_and_Drink_indexer = StringIndexer(inputCol='Food and Drink', outputCol='Food_and_Drink_Index')\n",
    "New_Data = Food_and_Drink_indexer.fit(New_Data).transform(New_Data)\n",
    "\n",
    "#In-flight Service column\n",
    "Inflight_Service_indexer = StringIndexer(inputCol='In-flight Service', outputCol='Inflight_Service_Index')\n",
    "New_Data = Inflight_Service_indexer.fit(New_Data).transform(New_Data)\n",
    "\n",
    "#In-flight Entertainment column\n",
    "Inflight_Entertaiment_indexer = StringIndexer(inputCol='In-flight Entertainment', outputCol='Inflight_Entertaiment_Index')\n",
    "New_Data = Inflight_Entertaiment_indexer.fit(New_Data).transform(New_Data)\n",
    "\n",
    "#In-flight Wifi Service column\n",
    "On_board_Wifi_Service_indexer = StringIndexer(inputCol='In-flight Wifi Service', outputCol='On_board_Wifi_Service_Index')\n",
    "New_Data = On_board_Wifi_Service_indexer.fit(New_Data).transform(New_Data)\n",
    "\n",
    "#Baggage Handling column\n",
    "Baggage_Handling_indexer = StringIndexer(inputCol='Baggage Handling', outputCol='Baggage_Handling_Index')\n",
    "New_Data = Baggage_Handling_indexer.fit(New_Data).transform(New_Data)"
   ]
  },
  {
   "cell_type": "code",
   "execution_count": 17,
   "metadata": {
    "id": "Nuv0t2bK-2_F"
   },
   "outputs": [
    {
     "data": {
      "text/plain": [
       "['ID',\n",
       " 'Gender',\n",
       " 'Age',\n",
       " 'Customer Type',\n",
       " 'Type of Travel',\n",
       " 'Class',\n",
       " 'Flight Distance',\n",
       " 'Departure Delay',\n",
       " 'Arrival Delay',\n",
       " 'Departure and Arrival Time Convenience',\n",
       " 'Ease of Online Booking',\n",
       " 'Check-in Service',\n",
       " 'Online Boarding',\n",
       " 'Gate Location',\n",
       " 'On-board Service',\n",
       " 'Seat Comfort',\n",
       " 'Leg Room Service',\n",
       " 'Cleanliness',\n",
       " 'Food and Drink',\n",
       " 'In-flight Service',\n",
       " 'In-flight Wifi Service',\n",
       " 'In-flight Entertainment',\n",
       " 'Baggage Handling',\n",
       " 'Satisfaction',\n",
       " 'label',\n",
       " 'Gender_Index',\n",
       " 'Customer_Type_Index',\n",
       " 'Type_of_Travel_Index',\n",
       " 'Class_Index',\n",
       " 'Arr_Dept_Time_Cov_Index',\n",
       " 'Ease_of_Online_Booking_Index',\n",
       " 'Check_in_Service_Index',\n",
       " 'Online_Boarding_Index',\n",
       " 'Gate_Location_Index',\n",
       " 'Onboard_Service_Index',\n",
       " 'Seat_Comfort_Index',\n",
       " 'Leg_Room_Service_Index',\n",
       " 'Cleanliness_Index',\n",
       " 'Food_and_Drink_Index',\n",
       " 'Inflight_Service_Index',\n",
       " 'Inflight_Entertaiment_Index',\n",
       " 'On_board_Wifi_Service_Index',\n",
       " 'Baggage_Handling_Index']"
      ]
     },
     "execution_count": 17,
     "metadata": {},
     "output_type": "execute_result"
    }
   ],
   "source": [
    "#A peep into the new columns\n",
    "\n",
    "New_Data.columns"
   ]
  },
  {
   "cell_type": "code",
   "execution_count": 18,
   "metadata": {
    "id": "phnV-_LF_JOH"
   },
   "outputs": [],
   "source": [
    "#Extracting the indexed categorical columns with the numerical columns as relevant features\n",
    "\n",
    "feature_columns = ['Age', 'Flight Distance', 'Departure Delay', 'Arrival Delay', 'Gender_Index',\n",
    "                   'Customer_Type_Index', 'Type_of_Travel_Index','Class_Index', 'Arr_Dept_Time_Cov_Index',\n",
    "                   'Ease_of_Online_Booking_Index','Check_in_Service_Index', 'Online_Boarding_Index',\n",
    "                   'Gate_Location_Index', 'Onboard_Service_Index', 'Seat_Comfort_Index', 'Leg_Room_Service_Index',\n",
    "                   'Cleanliness_Index', 'Food_and_Drink_Index', 'Inflight_Service_Index',\n",
    "                   'Inflight_Entertaiment_Index', 'On_board_Wifi_Service_Index', 'Baggage_Handling_Index']"
   ]
  },
  {
   "cell_type": "code",
   "execution_count": 19,
   "metadata": {
    "id": "MetP9Rt2_blA"
   },
   "outputs": [
    {
     "name": "stdout",
     "output_type": "stream",
     "text": [
      "+---+---------------+---------------+-------------+------------+-------------------+--------------------+-----------+-----------------------+----------------------------+----------------------+---------------------+-------------------+---------------------+------------------+----------------------+-----------------+--------------------+----------------------+---------------------------+---------------------------+----------------------+\n",
      "|Age|Flight Distance|Departure Delay|Arrival Delay|Gender_Index|Customer_Type_Index|Type_of_Travel_Index|Class_Index|Arr_Dept_Time_Cov_Index|Ease_of_Online_Booking_Index|Check_in_Service_Index|Online_Boarding_Index|Gate_Location_Index|Onboard_Service_Index|Seat_Comfort_Index|Leg_Room_Service_Index|Cleanliness_Index|Food_and_Drink_Index|Inflight_Service_Index|Inflight_Entertaiment_Index|On_board_Wifi_Service_Index|Baggage_Handling_Index|\n",
      "+---+---------------+---------------+-------------+------------+-------------------+--------------------+-----------+-----------------------+----------------------------+----------------------+---------------------+-------------------+---------------------+------------------+----------------------+-----------------+--------------------+----------------------+---------------------------+---------------------------+----------------------+\n",
      "| 48|            821|              2|          5.0|         1.0|                1.0|                 0.0|        0.0|                    2.0|                         0.0|                   0.0|                  1.0|                0.0|                  2.0|               1.0|                   3.0|              2.0|                 1.0|                   1.0|                        1.0|                        1.0|                   1.0|\n",
      "| 35|            821|             26|         39.0|         0.0|                0.0|                 0.0|        0.0|                    3.0|                         1.0|                   1.0|                  2.0|                2.0|                  1.0|               0.0|                   1.0|              2.0|                 2.0|                   1.0|                        1.0|                        0.0|                   1.0|\n",
      "| 41|            853|              0|          0.0|         1.0|                0.0|                 0.0|        0.0|                    0.0|                         2.0|                   0.0|                  2.0|                1.0|                  2.0|               1.0|                   2.0|              2.0|                 1.0|                   2.0|                        2.0|                        2.0|                   2.0|\n",
      "| 50|           1905|              0|          0.0|         1.0|                0.0|                 0.0|        0.0|                    3.0|                         1.0|                   1.0|                  0.0|                2.0|                  1.0|               1.0|                   1.0|              0.0|                 0.0|                   1.0|                        1.0|                        0.0|                   1.0|\n",
      "| 49|           3470|              0|          1.0|         0.0|                0.0|                 0.0|        0.0|                    2.0|                         0.0|                   1.0|                  2.0|                0.0|                  2.0|               0.0|                   0.0|              2.0|                 0.0|                   2.0|                        2.0|                        1.0|                   2.0|\n",
      "+---+---------------+---------------+-------------+------------+-------------------+--------------------+-----------+-----------------------+----------------------------+----------------------+---------------------+-------------------+---------------------+------------------+----------------------+-----------------+--------------------+----------------------+---------------------------+---------------------------+----------------------+\n",
      "only showing top 5 rows\n",
      "\n"
     ]
    }
   ],
   "source": [
    "#A peep into the first 5 rows of the feature columns\n",
    "\n",
    "New_Data.select(feature_columns).show(5)"
   ]
  },
  {
   "cell_type": "code",
   "execution_count": 20,
   "metadata": {
    "id": "EAbyrFYs_nec"
   },
   "outputs": [
    {
     "name": "stdout",
     "output_type": "stream",
     "text": [
      "+--------------------+\n",
      "|            features|\n",
      "+--------------------+\n",
      "|[48.0,821.0,2.0,5...|\n",
      "|[35.0,821.0,26.0,...|\n",
      "|[41.0,853.0,0.0,0...|\n",
      "|(22,[0,1,4,8,9,10...|\n",
      "|(22,[0,1,3,8,10,1...|\n",
      "+--------------------+\n",
      "only showing top 5 rows\n",
      "\n"
     ]
    }
   ],
   "source": [
    "#Transforming the feature columns using Vector Assembler\n",
    "\n",
    "assembler = VectorAssembler(inputCols=feature_columns, outputCol=\"features\")\n",
    "output = assembler.transform(New_Data)\n",
    "output.select(\"features\").show(5)"
   ]
  },
  {
   "cell_type": "code",
   "execution_count": 21,
   "metadata": {
    "id": "8_dwuwxj_x0R"
   },
   "outputs": [
    {
     "name": "stdout",
     "output_type": "stream",
     "text": [
      "root\n",
      " |-- features: vector (nullable = true)\n",
      " |-- label: double (nullable = false)\n",
      "\n"
     ]
    }
   ],
   "source": [
    "#Extracting the transformed features column and label column for the classification\n",
    "\n",
    "final_data = output.select(\"features\", \"label\")\n",
    "final_data.printSchema()"
   ]
  },
  {
   "cell_type": "code",
   "execution_count": 22,
   "metadata": {
    "id": "j_4CvtBNARfV"
   },
   "outputs": [],
   "source": [
    "#Defining Evaluation Metrics for the Models\n",
    "auroc_evaluator = BinaryClassificationEvaluator(labelCol=\"label\", rawPredictionCol=\"rawPrediction\", metricName=\"areaUnderROC\")\n",
    "aupr_evaluator = BinaryClassificationEvaluator(labelCol=\"label\", rawPredictionCol=\"rawPrediction\", metricName=\"areaUnderPR\")\n",
    "accuracy_evaluator = MulticlassClassificationEvaluator(labelCol=\"label\", predictionCol=\"prediction\", metricName=\"accuracy\")\n",
    "precision_evaluator = MulticlassClassificationEvaluator(labelCol=\"label\", predictionCol=\"prediction\", metricName=\"weightedPrecision\")\n",
    "recall_evaluator = MulticlassClassificationEvaluator(labelCol=\"label\", predictionCol=\"prediction\", metricName= \"weightedRecall\")\n",
    "f1_evaluator = MulticlassClassificationEvaluator(labelCol=\"label\", predictionCol=\"prediction\", metricName=\"f1\")\n"
   ]
  },
  {
   "cell_type": "markdown",
   "metadata": {
    "id": "lpaB0I5jAhbS"
   },
   "source": [
    "**LOGISTIC REGRESSION MODEL**"
   ]
  },
  {
   "cell_type": "code",
   "execution_count": 23,
   "metadata": {
    "id": "OWAZrFnHA0Y_"
   },
   "outputs": [
    {
     "name": "stdout",
     "output_type": "stream",
     "text": [
      "root\n",
      " |-- features: vector (nullable = true)\n",
      " |-- label: double (nullable = false)\n",
      "\n"
     ]
    }
   ],
   "source": [
    "#Copying transformed dataset for the for the Logistic Regression\n",
    "\n",
    "lr_data = final_data\n",
    "lr_data.printSchema()"
   ]
  },
  {
   "cell_type": "code",
   "execution_count": 24,
   "metadata": {
    "id": "jAj7QQr1BJM4"
   },
   "outputs": [],
   "source": [
    "#Splitting the lr_data into training and test sets\n",
    "\n",
    "train_data_lr, test_data_lr = lr_data.randomSplit([0.7, 0.3], seed=20)"
   ]
  },
  {
   "cell_type": "code",
   "execution_count": 25,
   "metadata": {
    "id": "nTHa734bBa4N"
   },
   "outputs": [],
   "source": [
    "#Initialising the Logistic Regression classifeir\n",
    "\n",
    "lr = LogisticRegression(featuresCol=\"features\", labelCol=\"label\")"
   ]
  },
  {
   "cell_type": "code",
   "execution_count": 26,
   "metadata": {
    "id": "c81UNMvABqNH"
   },
   "outputs": [],
   "source": [
    "#Trainning the lr model\n",
    "\n",
    "lr_model = lr.fit(train_data_lr)"
   ]
  },
  {
   "cell_type": "code",
   "execution_count": 27,
   "metadata": {
    "id": "nvwzrWzUCCpX"
   },
   "outputs": [],
   "source": [
    "#Predictions with the lr model on the test set\n",
    "\n",
    "lr_predictions = lr_model.transform(test_data_lr)"
   ]
  },
  {
   "cell_type": "code",
   "execution_count": 28,
   "metadata": {
    "id": "4mvsMyP4CaFQ"
   },
   "outputs": [
    {
     "name": "stdout",
     "output_type": "stream",
     "text": [
      "Logistic Regression Model Accuracy:  0.87\n",
      "Logistic Regression Model Weighted Precision:  0.87\n",
      "Logistic Regression Model Weighted Recall:  0.87\n",
      "Logistic Regression Model f1:  0.87\n"
     ]
    }
   ],
   "source": [
    "#Evaluating the lr model\n",
    "\n",
    "lr_accuracy = accuracy_evaluator.evaluate(lr_predictions)\n",
    "lr_weightedPrecision = precision_evaluator.evaluate(lr_predictions)\n",
    "lr_weightedRecall = recall_evaluator.evaluate(lr_predictions)\n",
    "lr_f1 = f1_evaluator.evaluate(lr_predictions)\n",
    "\n",
    "print(f\"Logistic Regression Model Accuracy: {lr_accuracy: .2f}\")\n",
    "print(f\"Logistic Regression Model Weighted Precision: {lr_weightedPrecision: .2f}\")\n",
    "print(f\"Logistic Regression Model Weighted Recall: {lr_weightedRecall: .2f}\")\n",
    "print(f\"Logistic Regression Model f1: {lr_f1: .2f}\")"
   ]
  },
  {
   "cell_type": "code",
   "execution_count": 29,
   "metadata": {
    "id": "wS2d_wEefsdr"
   },
   "outputs": [
    {
     "name": "stdout",
     "output_type": "stream",
     "text": [
      "+-----+----------+--------------------+\n",
      "|label|prediction|            features|\n",
      "+-----+----------+--------------------+\n",
      "|  0.0|       0.0|(22,[0,1,2,3,4,5,...|\n",
      "|  0.0|       1.0|(22,[0,1,2,3,4,5,...|\n",
      "|  1.0|       0.0|(22,[0,1,2,3,4,5,...|\n",
      "+-----+----------+--------------------+\n",
      "only showing top 3 rows\n",
      "\n"
     ]
    }
   ],
   "source": [
    "#Preview first three rows of the lr prediction\n",
    "\n",
    "lr_predicted= lr_predictions.select(\"label\", \"prediction\", \"features\")\n",
    "lr_predicted.show(3)"
   ]
  },
  {
   "cell_type": "code",
   "execution_count": 30,
   "metadata": {
    "id": "y9QrMsn64aPV"
   },
   "outputs": [],
   "source": [
    "#Extract the logistic coefficients\n",
    "\n",
    "lr_coefficients = lr_model.coefficients.toArray()\n",
    "\n",
    "#Matching features to their absolute coefficients\n",
    "\n",
    "lr_feature_importance = list(zip(feature_columns, abs(lr_coefficients)))\n",
    "\n",
    "#Sort the feature importances in descending order\n",
    "\n",
    "sorted_lr_importances = sorted(lr_feature_importance, key=lambda x: x[1], reverse=True)\n"
   ]
  },
  {
   "cell_type": "code",
   "execution_count": 31,
   "metadata": {
    "id": "eNJTeiOG7MKA"
   },
   "outputs": [
    {
     "data": {
      "text/html": [
       "<div>\n",
       "<style scoped>\n",
       "    .dataframe tbody tr th:only-of-type {\n",
       "        vertical-align: middle;\n",
       "    }\n",
       "\n",
       "    .dataframe tbody tr th {\n",
       "        vertical-align: top;\n",
       "    }\n",
       "\n",
       "    .dataframe thead th {\n",
       "        text-align: right;\n",
       "    }\n",
       "</style>\n",
       "<table border=\"1\" class=\"dataframe\">\n",
       "  <thead>\n",
       "    <tr style=\"text-align: right;\">\n",
       "      <th></th>\n",
       "      <th>Feature</th>\n",
       "      <th>LR_coefficient</th>\n",
       "    </tr>\n",
       "  </thead>\n",
       "  <tbody>\n",
       "    <tr>\n",
       "      <th>0</th>\n",
       "      <td>Type_of_Travel_Index</td>\n",
       "      <td>2.878071</td>\n",
       "    </tr>\n",
       "    <tr>\n",
       "      <th>1</th>\n",
       "      <td>Customer_Type_Index</td>\n",
       "      <td>2.268346</td>\n",
       "    </tr>\n",
       "    <tr>\n",
       "      <th>2</th>\n",
       "      <td>On_board_Wifi_Service_Index</td>\n",
       "      <td>0.950984</td>\n",
       "    </tr>\n",
       "    <tr>\n",
       "      <th>3</th>\n",
       "      <td>Class_Index</td>\n",
       "      <td>0.806763</td>\n",
       "    </tr>\n",
       "    <tr>\n",
       "      <th>4</th>\n",
       "      <td>Online_Boarding_Index</td>\n",
       "      <td>0.339085</td>\n",
       "    </tr>\n",
       "    <tr>\n",
       "      <th>5</th>\n",
       "      <td>Leg_Room_Service_Index</td>\n",
       "      <td>0.334449</td>\n",
       "    </tr>\n",
       "    <tr>\n",
       "      <th>6</th>\n",
       "      <td>Onboard_Service_Index</td>\n",
       "      <td>0.277889</td>\n",
       "    </tr>\n",
       "    <tr>\n",
       "      <th>7</th>\n",
       "      <td>Inflight_Entertaiment_Index</td>\n",
       "      <td>0.268852</td>\n",
       "    </tr>\n",
       "    <tr>\n",
       "      <th>8</th>\n",
       "      <td>Check_in_Service_Index</td>\n",
       "      <td>0.195263</td>\n",
       "    </tr>\n",
       "    <tr>\n",
       "      <th>9</th>\n",
       "      <td>Gate_Location_Index</td>\n",
       "      <td>0.174557</td>\n",
       "    </tr>\n",
       "    <tr>\n",
       "      <th>10</th>\n",
       "      <td>Seat_Comfort_Index</td>\n",
       "      <td>0.155300</td>\n",
       "    </tr>\n",
       "    <tr>\n",
       "      <th>11</th>\n",
       "      <td>Ease_of_Online_Booking_Index</td>\n",
       "      <td>0.151963</td>\n",
       "    </tr>\n",
       "    <tr>\n",
       "      <th>12</th>\n",
       "      <td>Baggage_Handling_Index</td>\n",
       "      <td>0.102115</td>\n",
       "    </tr>\n",
       "    <tr>\n",
       "      <th>13</th>\n",
       "      <td>Gender_Index</td>\n",
       "      <td>0.071099</td>\n",
       "    </tr>\n",
       "    <tr>\n",
       "      <th>14</th>\n",
       "      <td>Food_and_Drink_Index</td>\n",
       "      <td>0.057146</td>\n",
       "    </tr>\n",
       "    <tr>\n",
       "      <th>15</th>\n",
       "      <td>Arr_Dept_Time_Cov_Index</td>\n",
       "      <td>0.054435</td>\n",
       "    </tr>\n",
       "    <tr>\n",
       "      <th>16</th>\n",
       "      <td>Inflight_Service_Index</td>\n",
       "      <td>0.051874</td>\n",
       "    </tr>\n",
       "    <tr>\n",
       "      <th>17</th>\n",
       "      <td>Cleanliness_Index</td>\n",
       "      <td>0.011635</td>\n",
       "    </tr>\n",
       "    <tr>\n",
       "      <th>18</th>\n",
       "      <td>Arrival Delay</td>\n",
       "      <td>0.008657</td>\n",
       "    </tr>\n",
       "    <tr>\n",
       "      <th>19</th>\n",
       "      <td>Age</td>\n",
       "      <td>0.004550</td>\n",
       "    </tr>\n",
       "    <tr>\n",
       "      <th>20</th>\n",
       "      <td>Departure Delay</td>\n",
       "      <td>0.003625</td>\n",
       "    </tr>\n",
       "    <tr>\n",
       "      <th>21</th>\n",
       "      <td>Flight Distance</td>\n",
       "      <td>0.000043</td>\n",
       "    </tr>\n",
       "  </tbody>\n",
       "</table>\n",
       "</div>"
      ],
      "text/plain": [
       "                         Feature  LR_coefficient\n",
       "0           Type_of_Travel_Index        2.878071\n",
       "1            Customer_Type_Index        2.268346\n",
       "2    On_board_Wifi_Service_Index        0.950984\n",
       "3                    Class_Index        0.806763\n",
       "4          Online_Boarding_Index        0.339085\n",
       "5         Leg_Room_Service_Index        0.334449\n",
       "6          Onboard_Service_Index        0.277889\n",
       "7    Inflight_Entertaiment_Index        0.268852\n",
       "8         Check_in_Service_Index        0.195263\n",
       "9            Gate_Location_Index        0.174557\n",
       "10            Seat_Comfort_Index        0.155300\n",
       "11  Ease_of_Online_Booking_Index        0.151963\n",
       "12        Baggage_Handling_Index        0.102115\n",
       "13                  Gender_Index        0.071099\n",
       "14          Food_and_Drink_Index        0.057146\n",
       "15       Arr_Dept_Time_Cov_Index        0.054435\n",
       "16        Inflight_Service_Index        0.051874\n",
       "17             Cleanliness_Index        0.011635\n",
       "18                 Arrival Delay        0.008657\n",
       "19                           Age        0.004550\n",
       "20               Departure Delay        0.003625\n",
       "21               Flight Distance        0.000043"
      ]
     },
     "execution_count": 31,
     "metadata": {},
     "output_type": "execute_result"
    }
   ],
   "source": [
    "lr_features_ranking = pd.DataFrame(sorted_lr_importances, columns=['Feature', 'LR_coefficient'])\n",
    "lr_features_ranking"
   ]
  },
  {
   "cell_type": "markdown",
   "metadata": {
    "id": "LckAKPuhGCNb"
   },
   "source": [
    "***Applying Hyperparameter tunning to the Logistic Regression Classifer***"
   ]
  },
  {
   "cell_type": "code",
   "execution_count": 32,
   "metadata": {
    "id": "DIJyNNTTEO6K"
   },
   "outputs": [],
   "source": [
    "#Parameter grid for the logistic regression Hyperparameter tunning\n",
    "\n",
    "lr_paramGrid = (ParamGridBuilder()\n",
    "            .addGrid(lr.regParam, [0.1, 0.01])\n",
    "            .addGrid(lr.maxIter, [50, 100])\n",
    "            .build())"
   ]
  },
  {
   "cell_type": "code",
   "execution_count": 33,
   "metadata": {
    "id": "q9tSzA4AGk70"
   },
   "outputs": [],
   "source": [
    "# Defining the Cross-validator for the logistic regression\n",
    "\n",
    "lr_crossval = CrossValidator(estimator=lr,\n",
    "                             estimatorParamMaps=lr_paramGrid,\n",
    "                             evaluator=accuracy_evaluator, numFolds=5)"
   ]
  },
  {
   "cell_type": "code",
   "execution_count": 34,
   "metadata": {
    "id": "2Eh2H5RuIiTk"
   },
   "outputs": [],
   "source": [
    "#Cross-validation fitting for the lr model\n",
    "\n",
    "lr_cv_model = lr_crossval.fit(train_data_lr)"
   ]
  },
  {
   "cell_type": "code",
   "execution_count": 35,
   "metadata": {
    "id": "ZEYoZPpnHg4U"
   },
   "outputs": [],
   "source": [
    "# Extracting lr_cv Best model\n",
    "\n",
    "lr_best_model = lr_cv_model.bestModel"
   ]
  },
  {
   "cell_type": "code",
   "execution_count": 36,
   "metadata": {
    "id": "DrXAS2HiH8v2"
   },
   "outputs": [],
   "source": [
    "#Predictions with the SVM CV on the test data\n",
    "\n",
    "lr_cv_predictions = lr_best_model.transform(test_data_lr)"
   ]
  },
  {
   "cell_type": "code",
   "execution_count": 37,
   "metadata": {
    "id": "b8T5uGDjJSPe"
   },
   "outputs": [
    {
     "name": "stdout",
     "output_type": "stream",
     "text": [
      "CV Logistic Regression Model Accuracy:  0.87\n",
      "CV Logistic Regression Model Weighted Precision:  0.87\n",
      "CV Logistic Regression Model Weighted Recall:  0.87\n",
      "CV Logistic Regression Model f1:  0.87\n"
     ]
    }
   ],
   "source": [
    "#Evaluating the lr_cv model\n",
    "\n",
    "lr_cv_accuracy = accuracy_evaluator.evaluate(lr_cv_predictions)\n",
    "lr_cv_weightedPrecision = precision_evaluator.evaluate(lr_cv_predictions)\n",
    "lr_cv_weightedRecall = recall_evaluator.evaluate(lr_cv_predictions)\n",
    "lr_cv_f1 = f1_evaluator.evaluate(lr_cv_predictions)\n",
    "\n",
    "print(f\"CV Logistic Regression Model Accuracy: {lr_cv_accuracy: .2f}\")\n",
    "print(f\"CV Logistic Regression Model Weighted Precision: {lr_cv_weightedPrecision: .2f}\")\n",
    "print(f\"CV Logistic Regression Model Weighted Recall: {lr_cv_weightedRecall: .2f}\")\n",
    "print(f\"CV Logistic Regression Model f1: {lr_cv_f1: .2f}\")"
   ]
  },
  {
   "cell_type": "code",
   "execution_count": 38,
   "metadata": {
    "id": "SlosuVBvfo6Q"
   },
   "outputs": [
    {
     "name": "stdout",
     "output_type": "stream",
     "text": [
      "+-----+----------+--------------------+\n",
      "|label|prediction|            features|\n",
      "+-----+----------+--------------------+\n",
      "|  0.0|       0.0|(22,[0,1,2,3,4,5,...|\n",
      "|  0.0|       1.0|(22,[0,1,2,3,4,5,...|\n",
      "|  1.0|       0.0|(22,[0,1,2,3,4,5,...|\n",
      "+-----+----------+--------------------+\n",
      "only showing top 3 rows\n",
      "\n"
     ]
    }
   ],
   "source": [
    "#Preview first three rows of the lr_Cv prediction\n",
    "\n",
    "cv_lr_predicted= lr_predictions.select(\"label\", \"prediction\", \"features\")\n",
    "cv_lr_predicted.show(3)"
   ]
  },
  {
   "cell_type": "code",
   "execution_count": 39,
   "metadata": {
    "id": "zG-7pen76Xsn"
   },
   "outputs": [],
   "source": [
    "#Extract the logistic coefficients\n",
    "\n",
    "lr_cv_coefficients = lr_best_model.coefficients.toArray()\n",
    "\n",
    "#Matching features to their absolute coefficients\n",
    "\n",
    "lr_cv_feature_importance = list(zip(feature_columns, abs(lr_cv_coefficients)))\n",
    "\n",
    "#Sort the feature importances in descending order\n",
    "\n",
    "sorted_lr_cv_importances = sorted(lr_cv_feature_importance, key=lambda x: x[1], reverse=True)"
   ]
  },
  {
   "cell_type": "code",
   "execution_count": 40,
   "metadata": {
    "id": "23phtFVX7CQz"
   },
   "outputs": [
    {
     "data": {
      "text/html": [
       "<div>\n",
       "<style scoped>\n",
       "    .dataframe tbody tr th:only-of-type {\n",
       "        vertical-align: middle;\n",
       "    }\n",
       "\n",
       "    .dataframe tbody tr th {\n",
       "        vertical-align: top;\n",
       "    }\n",
       "\n",
       "    .dataframe thead th {\n",
       "        text-align: right;\n",
       "    }\n",
       "</style>\n",
       "<table border=\"1\" class=\"dataframe\">\n",
       "  <thead>\n",
       "    <tr style=\"text-align: right;\">\n",
       "      <th></th>\n",
       "      <th>Feature</th>\n",
       "      <th>CV_LR_coefficient</th>\n",
       "    </tr>\n",
       "  </thead>\n",
       "  <tbody>\n",
       "    <tr>\n",
       "      <th>0</th>\n",
       "      <td>Type_of_Travel_Index</td>\n",
       "      <td>2.324921</td>\n",
       "    </tr>\n",
       "    <tr>\n",
       "      <th>1</th>\n",
       "      <td>Customer_Type_Index</td>\n",
       "      <td>1.767525</td>\n",
       "    </tr>\n",
       "    <tr>\n",
       "      <th>2</th>\n",
       "      <td>On_board_Wifi_Service_Index</td>\n",
       "      <td>0.768404</td>\n",
       "    </tr>\n",
       "    <tr>\n",
       "      <th>3</th>\n",
       "      <td>Class_Index</td>\n",
       "      <td>0.748889</td>\n",
       "    </tr>\n",
       "    <tr>\n",
       "      <th>4</th>\n",
       "      <td>Leg_Room_Service_Index</td>\n",
       "      <td>0.289657</td>\n",
       "    </tr>\n",
       "    <tr>\n",
       "      <th>5</th>\n",
       "      <td>Online_Boarding_Index</td>\n",
       "      <td>0.273814</td>\n",
       "    </tr>\n",
       "    <tr>\n",
       "      <th>6</th>\n",
       "      <td>Inflight_Entertaiment_Index</td>\n",
       "      <td>0.248401</td>\n",
       "    </tr>\n",
       "    <tr>\n",
       "      <th>7</th>\n",
       "      <td>Onboard_Service_Index</td>\n",
       "      <td>0.235501</td>\n",
       "    </tr>\n",
       "    <tr>\n",
       "      <th>8</th>\n",
       "      <td>Check_in_Service_Index</td>\n",
       "      <td>0.157339</td>\n",
       "    </tr>\n",
       "    <tr>\n",
       "      <th>9</th>\n",
       "      <td>Ease_of_Online_Booking_Index</td>\n",
       "      <td>0.153196</td>\n",
       "    </tr>\n",
       "    <tr>\n",
       "      <th>10</th>\n",
       "      <td>Seat_Comfort_Index</td>\n",
       "      <td>0.150372</td>\n",
       "    </tr>\n",
       "    <tr>\n",
       "      <th>11</th>\n",
       "      <td>Gate_Location_Index</td>\n",
       "      <td>0.122789</td>\n",
       "    </tr>\n",
       "    <tr>\n",
       "      <th>12</th>\n",
       "      <td>Baggage_Handling_Index</td>\n",
       "      <td>0.088743</td>\n",
       "    </tr>\n",
       "    <tr>\n",
       "      <th>13</th>\n",
       "      <td>Gender_Index</td>\n",
       "      <td>0.057786</td>\n",
       "    </tr>\n",
       "    <tr>\n",
       "      <th>14</th>\n",
       "      <td>Food_and_Drink_Index</td>\n",
       "      <td>0.054264</td>\n",
       "    </tr>\n",
       "    <tr>\n",
       "      <th>15</th>\n",
       "      <td>Inflight_Service_Index</td>\n",
       "      <td>0.052658</td>\n",
       "    </tr>\n",
       "    <tr>\n",
       "      <th>16</th>\n",
       "      <td>Arr_Dept_Time_Cov_Index</td>\n",
       "      <td>0.046449</td>\n",
       "    </tr>\n",
       "    <tr>\n",
       "      <th>17</th>\n",
       "      <td>Arrival Delay</td>\n",
       "      <td>0.003765</td>\n",
       "    </tr>\n",
       "    <tr>\n",
       "      <th>18</th>\n",
       "      <td>Cleanliness_Index</td>\n",
       "      <td>0.002901</td>\n",
       "    </tr>\n",
       "    <tr>\n",
       "      <th>19</th>\n",
       "      <td>Age</td>\n",
       "      <td>0.001107</td>\n",
       "    </tr>\n",
       "    <tr>\n",
       "      <th>20</th>\n",
       "      <td>Departure Delay</td>\n",
       "      <td>0.000569</td>\n",
       "    </tr>\n",
       "    <tr>\n",
       "      <th>21</th>\n",
       "      <td>Flight Distance</td>\n",
       "      <td>0.000092</td>\n",
       "    </tr>\n",
       "  </tbody>\n",
       "</table>\n",
       "</div>"
      ],
      "text/plain": [
       "                         Feature  CV_LR_coefficient\n",
       "0           Type_of_Travel_Index           2.324921\n",
       "1            Customer_Type_Index           1.767525\n",
       "2    On_board_Wifi_Service_Index           0.768404\n",
       "3                    Class_Index           0.748889\n",
       "4         Leg_Room_Service_Index           0.289657\n",
       "5          Online_Boarding_Index           0.273814\n",
       "6    Inflight_Entertaiment_Index           0.248401\n",
       "7          Onboard_Service_Index           0.235501\n",
       "8         Check_in_Service_Index           0.157339\n",
       "9   Ease_of_Online_Booking_Index           0.153196\n",
       "10            Seat_Comfort_Index           0.150372\n",
       "11           Gate_Location_Index           0.122789\n",
       "12        Baggage_Handling_Index           0.088743\n",
       "13                  Gender_Index           0.057786\n",
       "14          Food_and_Drink_Index           0.054264\n",
       "15        Inflight_Service_Index           0.052658\n",
       "16       Arr_Dept_Time_Cov_Index           0.046449\n",
       "17                 Arrival Delay           0.003765\n",
       "18             Cleanliness_Index           0.002901\n",
       "19                           Age           0.001107\n",
       "20               Departure Delay           0.000569\n",
       "21               Flight Distance           0.000092"
      ]
     },
     "execution_count": 40,
     "metadata": {},
     "output_type": "execute_result"
    }
   ],
   "source": [
    "cv_lr_feature_ranking = pd.DataFrame(sorted_lr_cv_importances, columns=['Feature', 'CV_LR_coefficient'])\n",
    "cv_lr_feature_ranking"
   ]
  },
  {
   "cell_type": "markdown",
   "metadata": {
    "id": "mLuIzJ1PRUVR"
   },
   "source": [
    "**LINEAR SUPPORT VECTOR MACHINE (SVM) MODEL**"
   ]
  },
  {
   "cell_type": "code",
   "execution_count": 41,
   "metadata": {
    "id": "eSBq3VaOSCbS"
   },
   "outputs": [
    {
     "name": "stdout",
     "output_type": "stream",
     "text": [
      "root\n",
      " |-- features: vector (nullable = true)\n",
      " |-- label: double (nullable = false)\n",
      "\n"
     ]
    }
   ],
   "source": [
    "#Copying transformed dataset for the SVM model\n",
    "\n",
    "svm_data = final_data\n",
    "svm_data.printSchema()"
   ]
  },
  {
   "cell_type": "code",
   "execution_count": 42,
   "metadata": {
    "id": "Z3hF_UOwD7oS"
   },
   "outputs": [],
   "source": [
    "#Splitting the svm_data into training and test sets\n",
    "\n",
    "train_data_svm, test_data_svm = svm_data.randomSplit([0.7, 0.3], seed=20)"
   ]
  },
  {
   "cell_type": "code",
   "execution_count": 43,
   "metadata": {
    "id": "-MRqdn3HS35a"
   },
   "outputs": [],
   "source": [
    "#Initialising the Linear SVM classifeir\n",
    "\n",
    "svm = LinearSVC(featuresCol=\"features\", labelCol=\"label\", maxIter=100, regParam=0.01)"
   ]
  },
  {
   "cell_type": "code",
   "execution_count": 44,
   "metadata": {
    "id": "rlHYNPhrS66y"
   },
   "outputs": [],
   "source": [
    "#Trainning the SVM model\n",
    "\n",
    "svm_model = svm.fit(train_data_svm)"
   ]
  },
  {
   "cell_type": "code",
   "execution_count": 45,
   "metadata": {
    "id": "XRk72g4LS979"
   },
   "outputs": [],
   "source": [
    "#Predictions with the SVM model on the test set\n",
    "\n",
    "svm_predictions = svm_model.transform(test_data_svm)"
   ]
  },
  {
   "cell_type": "code",
   "execution_count": 46,
   "metadata": {
    "id": "WACXq5KGTOZk"
   },
   "outputs": [
    {
     "name": "stdout",
     "output_type": "stream",
     "text": [
      "SVM Model Accuracy:  0.87\n",
      "SVM Model Weighted Precision:  0.87\n",
      "SVM Model Weighted Recall:  0.87\n",
      "SVM Model f1:  0.87\n"
     ]
    }
   ],
   "source": [
    "#Evaluating the SVM model\n",
    "\n",
    "svm_accuracy = accuracy_evaluator.evaluate(svm_predictions)\n",
    "svm_weightedPrecision = precision_evaluator.evaluate(svm_predictions)\n",
    "svm_weightedRecall = recall_evaluator.evaluate(svm_predictions)\n",
    "svm_f1 = f1_evaluator.evaluate(svm_predictions)\n",
    "\n",
    "print(f\"SVM Model Accuracy: {svm_accuracy: .2f}\")\n",
    "print(f\"SVM Model Weighted Precision: {svm_weightedPrecision: .2f}\")\n",
    "print(f\"SVM Model Weighted Recall: {svm_weightedRecall: .2f}\")\n",
    "print(f\"SVM Model f1: {svm_f1: .2f}\")"
   ]
  },
  {
   "cell_type": "code",
   "execution_count": 47,
   "metadata": {
    "id": "BExLMEzTfgg-"
   },
   "outputs": [
    {
     "name": "stdout",
     "output_type": "stream",
     "text": [
      "+-----+----------+--------------------+\n",
      "|label|prediction|            features|\n",
      "+-----+----------+--------------------+\n",
      "|  0.0|       0.0|(22,[0,1,2,3,4,5,...|\n",
      "|  0.0|       1.0|(22,[0,1,2,3,4,5,...|\n",
      "|  1.0|       0.0|(22,[0,1,2,3,4,5,...|\n",
      "+-----+----------+--------------------+\n",
      "only showing top 3 rows\n",
      "\n"
     ]
    }
   ],
   "source": [
    "#Preview first three rows of the svm prediction\n",
    "\n",
    "svm_predicted= svm_predictions.select(\"label\", \"prediction\", \"features\")\n",
    "svm_predicted.show(3)"
   ]
  },
  {
   "cell_type": "code",
   "execution_count": 48,
   "metadata": {
    "id": "etYJtwzG668U"
   },
   "outputs": [],
   "source": [
    "#Extract the SVM coefficients\n",
    "\n",
    "svm_coefficients = svm_model.coefficients.toArray()\n",
    "\n",
    "#Matching features to their absolute coefficients\n",
    "\n",
    "svm_feature_importance = list(zip(feature_columns, abs(svm_coefficients)))\n",
    "\n",
    "#Sort the feature importances in descending order\n",
    "\n",
    "sorted_svm_importances = sorted(svm_feature_importance, key=lambda x: x[1], reverse=True)"
   ]
  },
  {
   "cell_type": "code",
   "execution_count": 49,
   "metadata": {
    "id": "L10rxyQ473Uq"
   },
   "outputs": [
    {
     "data": {
      "text/html": [
       "<div>\n",
       "<style scoped>\n",
       "    .dataframe tbody tr th:only-of-type {\n",
       "        vertical-align: middle;\n",
       "    }\n",
       "\n",
       "    .dataframe tbody tr th {\n",
       "        vertical-align: top;\n",
       "    }\n",
       "\n",
       "    .dataframe thead th {\n",
       "        text-align: right;\n",
       "    }\n",
       "</style>\n",
       "<table border=\"1\" class=\"dataframe\">\n",
       "  <thead>\n",
       "    <tr style=\"text-align: right;\">\n",
       "      <th></th>\n",
       "      <th>Feature</th>\n",
       "      <th>SVM_coefficient</th>\n",
       "    </tr>\n",
       "  </thead>\n",
       "  <tbody>\n",
       "    <tr>\n",
       "      <th>0</th>\n",
       "      <td>Type_of_Travel_Index</td>\n",
       "      <td>1.808478</td>\n",
       "    </tr>\n",
       "    <tr>\n",
       "      <th>1</th>\n",
       "      <td>Customer_Type_Index</td>\n",
       "      <td>1.438164</td>\n",
       "    </tr>\n",
       "    <tr>\n",
       "      <th>2</th>\n",
       "      <td>On_board_Wifi_Service_Index</td>\n",
       "      <td>0.532586</td>\n",
       "    </tr>\n",
       "    <tr>\n",
       "      <th>3</th>\n",
       "      <td>Class_Index</td>\n",
       "      <td>0.518739</td>\n",
       "    </tr>\n",
       "    <tr>\n",
       "      <th>4</th>\n",
       "      <td>Inflight_Entertaiment_Index</td>\n",
       "      <td>0.243146</td>\n",
       "    </tr>\n",
       "    <tr>\n",
       "      <th>5</th>\n",
       "      <td>Leg_Room_Service_Index</td>\n",
       "      <td>0.199133</td>\n",
       "    </tr>\n",
       "    <tr>\n",
       "      <th>6</th>\n",
       "      <td>Online_Boarding_Index</td>\n",
       "      <td>0.184856</td>\n",
       "    </tr>\n",
       "    <tr>\n",
       "      <th>7</th>\n",
       "      <td>Onboard_Service_Index</td>\n",
       "      <td>0.173198</td>\n",
       "    </tr>\n",
       "    <tr>\n",
       "      <th>8</th>\n",
       "      <td>Check_in_Service_Index</td>\n",
       "      <td>0.106209</td>\n",
       "    </tr>\n",
       "    <tr>\n",
       "      <th>9</th>\n",
       "      <td>Seat_Comfort_Index</td>\n",
       "      <td>0.105356</td>\n",
       "    </tr>\n",
       "    <tr>\n",
       "      <th>10</th>\n",
       "      <td>Gate_Location_Index</td>\n",
       "      <td>0.098999</td>\n",
       "    </tr>\n",
       "    <tr>\n",
       "      <th>11</th>\n",
       "      <td>Ease_of_Online_Booking_Index</td>\n",
       "      <td>0.079778</td>\n",
       "    </tr>\n",
       "    <tr>\n",
       "      <th>12</th>\n",
       "      <td>Baggage_Handling_Index</td>\n",
       "      <td>0.067007</td>\n",
       "    </tr>\n",
       "    <tr>\n",
       "      <th>13</th>\n",
       "      <td>Gender_Index</td>\n",
       "      <td>0.054921</td>\n",
       "    </tr>\n",
       "    <tr>\n",
       "      <th>14</th>\n",
       "      <td>Arr_Dept_Time_Cov_Index</td>\n",
       "      <td>0.053949</td>\n",
       "    </tr>\n",
       "    <tr>\n",
       "      <th>15</th>\n",
       "      <td>Inflight_Service_Index</td>\n",
       "      <td>0.044044</td>\n",
       "    </tr>\n",
       "    <tr>\n",
       "      <th>16</th>\n",
       "      <td>Food_and_Drink_Index</td>\n",
       "      <td>0.036341</td>\n",
       "    </tr>\n",
       "    <tr>\n",
       "      <th>17</th>\n",
       "      <td>Cleanliness_Index</td>\n",
       "      <td>0.016071</td>\n",
       "    </tr>\n",
       "    <tr>\n",
       "      <th>18</th>\n",
       "      <td>Arrival Delay</td>\n",
       "      <td>0.003260</td>\n",
       "    </tr>\n",
       "    <tr>\n",
       "      <th>19</th>\n",
       "      <td>Age</td>\n",
       "      <td>0.002774</td>\n",
       "    </tr>\n",
       "    <tr>\n",
       "      <th>20</th>\n",
       "      <td>Departure Delay</td>\n",
       "      <td>0.000406</td>\n",
       "    </tr>\n",
       "    <tr>\n",
       "      <th>21</th>\n",
       "      <td>Flight Distance</td>\n",
       "      <td>0.000044</td>\n",
       "    </tr>\n",
       "  </tbody>\n",
       "</table>\n",
       "</div>"
      ],
      "text/plain": [
       "                         Feature  SVM_coefficient\n",
       "0           Type_of_Travel_Index         1.808478\n",
       "1            Customer_Type_Index         1.438164\n",
       "2    On_board_Wifi_Service_Index         0.532586\n",
       "3                    Class_Index         0.518739\n",
       "4    Inflight_Entertaiment_Index         0.243146\n",
       "5         Leg_Room_Service_Index         0.199133\n",
       "6          Online_Boarding_Index         0.184856\n",
       "7          Onboard_Service_Index         0.173198\n",
       "8         Check_in_Service_Index         0.106209\n",
       "9             Seat_Comfort_Index         0.105356\n",
       "10           Gate_Location_Index         0.098999\n",
       "11  Ease_of_Online_Booking_Index         0.079778\n",
       "12        Baggage_Handling_Index         0.067007\n",
       "13                  Gender_Index         0.054921\n",
       "14       Arr_Dept_Time_Cov_Index         0.053949\n",
       "15        Inflight_Service_Index         0.044044\n",
       "16          Food_and_Drink_Index         0.036341\n",
       "17             Cleanliness_Index         0.016071\n",
       "18                 Arrival Delay         0.003260\n",
       "19                           Age         0.002774\n",
       "20               Departure Delay         0.000406\n",
       "21               Flight Distance         0.000044"
      ]
     },
     "execution_count": 49,
     "metadata": {},
     "output_type": "execute_result"
    }
   ],
   "source": [
    "svm_feature_ranking = pd.DataFrame(sorted_svm_importances, columns=['Feature', 'SVM_coefficient'])\n",
    "svm_feature_ranking"
   ]
  },
  {
   "cell_type": "markdown",
   "metadata": {
    "id": "ke1hV3x6URhF"
   },
   "source": [
    "***Applying hyperparameter tunning to the Linear SVM Classifer***"
   ]
  },
  {
   "cell_type": "code",
   "execution_count": 50,
   "metadata": {
    "id": "CTW2TbpJUbRQ"
   },
   "outputs": [],
   "source": [
    "#Parameter grid for the SVM Hyperparameter tunning\n",
    "\n",
    "svm_param_grid = (ParamGridBuilder()\n",
    "              .addGrid(svm.maxIter, [50, 100, 200])\n",
    "              .addGrid(svm.regParam, [0.01, 0.1, 1.0])\n",
    "              .build())"
   ]
  },
  {
   "cell_type": "code",
   "execution_count": 51,
   "metadata": {
    "id": "1Ha8LZwXUmcf"
   },
   "outputs": [],
   "source": [
    "# Defining the Cross-validator for the SVM\n",
    "svm_crossval = CrossValidator(estimator=svm,\n",
    "                          estimatorParamMaps=svm_param_grid,\n",
    "                          evaluator=accuracy_evaluator,\n",
    "                          numFolds=3)"
   ]
  },
  {
   "cell_type": "code",
   "execution_count": 52,
   "metadata": {
    "id": "IvMtoE3yUqZM"
   },
   "outputs": [],
   "source": [
    "#Cross-validation fitting for the svm model\n",
    "\n",
    "svm_cv_model = svm_crossval.fit(train_data_svm)"
   ]
  },
  {
   "cell_type": "code",
   "execution_count": 53,
   "metadata": {
    "id": "rTweazxdUv8E"
   },
   "outputs": [],
   "source": [
    "# Extracting SVM Best model\n",
    "\n",
    "svm_best_model = svm_cv_model.bestModel"
   ]
  },
  {
   "cell_type": "code",
   "execution_count": 54,
   "metadata": {
    "id": "Cawj5wNZVkEB"
   },
   "outputs": [],
   "source": [
    "#Predictions with the SVM CV on the test data\n",
    "\n",
    "svm_cv_predictions = svm_best_model.transform(test_data_svm)"
   ]
  },
  {
   "cell_type": "code",
   "execution_count": 55,
   "metadata": {
    "id": "hnu6CcGvVnbg"
   },
   "outputs": [
    {
     "name": "stdout",
     "output_type": "stream",
     "text": [
      "CV SVM Model Accuracy:  0.87\n",
      "CV SVM Model Weighted Precision:  0.87\n",
      "CV SVM Model Weighted Recall:  0.87\n",
      "CV SVM Model f1:  0.87\n"
     ]
    }
   ],
   "source": [
    "#Evaluating the cv SVM model\n",
    "\n",
    "svm_cv_accuracy = accuracy_evaluator.evaluate(svm_cv_predictions)\n",
    "svm_cv_weightedPrecision = precision_evaluator.evaluate(svm_cv_predictions)\n",
    "svm_cv_weightedRecall = recall_evaluator.evaluate(svm_cv_predictions)\n",
    "svm_cv_f1 = f1_evaluator.evaluate(svm_cv_predictions)\n",
    "\n",
    "print(f\"CV SVM Model Accuracy: {svm_cv_accuracy: .2f}\")\n",
    "print(f\"CV SVM Model Weighted Precision: {svm_cv_weightedPrecision: .2f}\")\n",
    "print(f\"CV SVM Model Weighted Recall: {svm_cv_weightedRecall: .2f}\")\n",
    "print(f\"CV SVM Model f1: {svm_cv_f1: .2f}\")"
   ]
  },
  {
   "cell_type": "code",
   "execution_count": 56,
   "metadata": {
    "id": "Tz1VAOmYfbei"
   },
   "outputs": [
    {
     "name": "stdout",
     "output_type": "stream",
     "text": [
      "+-----+----------+--------------------+\n",
      "|label|prediction|            features|\n",
      "+-----+----------+--------------------+\n",
      "|  0.0|       0.0|(22,[0,1,2,3,4,5,...|\n",
      "|  0.0|       1.0|(22,[0,1,2,3,4,5,...|\n",
      "|  1.0|       0.0|(22,[0,1,2,3,4,5,...|\n",
      "+-----+----------+--------------------+\n",
      "only showing top 3 rows\n",
      "\n"
     ]
    }
   ],
   "source": [
    "#Preview first three rows of the SVM_cv prediction\n",
    "\n",
    "cv_svm_predicted= svm_predictions.select(\"label\", \"prediction\", \"features\")\n",
    "cv_svm_predicted.show(3)"
   ]
  },
  {
   "cell_type": "code",
   "execution_count": 57,
   "metadata": {
    "id": "SDYVqrWP62nK"
   },
   "outputs": [],
   "source": [
    "#Extract the CV_SVM coefficients\n",
    "\n",
    "svm_cv_coefficients = svm_best_model.coefficients.toArray()\n",
    "\n",
    "#Matching features to their absolute coefficients\n",
    "\n",
    "svm_cv_feature_importance = list(zip(feature_columns, abs(svm_cv_coefficients)))\n",
    "\n",
    "#Sort the feature importances in descending order\n",
    "\n",
    "sorted_svm_cv_importances = sorted(svm_cv_feature_importance, key=lambda x: x[1], reverse=True)"
   ]
  },
  {
   "cell_type": "code",
   "execution_count": 58,
   "metadata": {
    "id": "zrLZt4Ll9Q_e"
   },
   "outputs": [
    {
     "data": {
      "text/html": [
       "<div>\n",
       "<style scoped>\n",
       "    .dataframe tbody tr th:only-of-type {\n",
       "        vertical-align: middle;\n",
       "    }\n",
       "\n",
       "    .dataframe tbody tr th {\n",
       "        vertical-align: top;\n",
       "    }\n",
       "\n",
       "    .dataframe thead th {\n",
       "        text-align: right;\n",
       "    }\n",
       "</style>\n",
       "<table border=\"1\" class=\"dataframe\">\n",
       "  <thead>\n",
       "    <tr style=\"text-align: right;\">\n",
       "      <th></th>\n",
       "      <th>Feature</th>\n",
       "      <th>CV_SVM_coefficient</th>\n",
       "    </tr>\n",
       "  </thead>\n",
       "  <tbody>\n",
       "    <tr>\n",
       "      <th>0</th>\n",
       "      <td>Type_of_Travel_Index</td>\n",
       "      <td>1.808478</td>\n",
       "    </tr>\n",
       "    <tr>\n",
       "      <th>1</th>\n",
       "      <td>Customer_Type_Index</td>\n",
       "      <td>1.438164</td>\n",
       "    </tr>\n",
       "    <tr>\n",
       "      <th>2</th>\n",
       "      <td>On_board_Wifi_Service_Index</td>\n",
       "      <td>0.532586</td>\n",
       "    </tr>\n",
       "    <tr>\n",
       "      <th>3</th>\n",
       "      <td>Class_Index</td>\n",
       "      <td>0.518739</td>\n",
       "    </tr>\n",
       "    <tr>\n",
       "      <th>4</th>\n",
       "      <td>Inflight_Entertaiment_Index</td>\n",
       "      <td>0.243146</td>\n",
       "    </tr>\n",
       "    <tr>\n",
       "      <th>5</th>\n",
       "      <td>Leg_Room_Service_Index</td>\n",
       "      <td>0.199133</td>\n",
       "    </tr>\n",
       "    <tr>\n",
       "      <th>6</th>\n",
       "      <td>Online_Boarding_Index</td>\n",
       "      <td>0.184856</td>\n",
       "    </tr>\n",
       "    <tr>\n",
       "      <th>7</th>\n",
       "      <td>Onboard_Service_Index</td>\n",
       "      <td>0.173198</td>\n",
       "    </tr>\n",
       "    <tr>\n",
       "      <th>8</th>\n",
       "      <td>Check_in_Service_Index</td>\n",
       "      <td>0.106209</td>\n",
       "    </tr>\n",
       "    <tr>\n",
       "      <th>9</th>\n",
       "      <td>Seat_Comfort_Index</td>\n",
       "      <td>0.105356</td>\n",
       "    </tr>\n",
       "    <tr>\n",
       "      <th>10</th>\n",
       "      <td>Gate_Location_Index</td>\n",
       "      <td>0.098999</td>\n",
       "    </tr>\n",
       "    <tr>\n",
       "      <th>11</th>\n",
       "      <td>Ease_of_Online_Booking_Index</td>\n",
       "      <td>0.079778</td>\n",
       "    </tr>\n",
       "    <tr>\n",
       "      <th>12</th>\n",
       "      <td>Baggage_Handling_Index</td>\n",
       "      <td>0.067007</td>\n",
       "    </tr>\n",
       "    <tr>\n",
       "      <th>13</th>\n",
       "      <td>Gender_Index</td>\n",
       "      <td>0.054921</td>\n",
       "    </tr>\n",
       "    <tr>\n",
       "      <th>14</th>\n",
       "      <td>Arr_Dept_Time_Cov_Index</td>\n",
       "      <td>0.053949</td>\n",
       "    </tr>\n",
       "    <tr>\n",
       "      <th>15</th>\n",
       "      <td>Inflight_Service_Index</td>\n",
       "      <td>0.044044</td>\n",
       "    </tr>\n",
       "    <tr>\n",
       "      <th>16</th>\n",
       "      <td>Food_and_Drink_Index</td>\n",
       "      <td>0.036341</td>\n",
       "    </tr>\n",
       "    <tr>\n",
       "      <th>17</th>\n",
       "      <td>Cleanliness_Index</td>\n",
       "      <td>0.016071</td>\n",
       "    </tr>\n",
       "    <tr>\n",
       "      <th>18</th>\n",
       "      <td>Arrival Delay</td>\n",
       "      <td>0.003260</td>\n",
       "    </tr>\n",
       "    <tr>\n",
       "      <th>19</th>\n",
       "      <td>Age</td>\n",
       "      <td>0.002774</td>\n",
       "    </tr>\n",
       "    <tr>\n",
       "      <th>20</th>\n",
       "      <td>Departure Delay</td>\n",
       "      <td>0.000406</td>\n",
       "    </tr>\n",
       "    <tr>\n",
       "      <th>21</th>\n",
       "      <td>Flight Distance</td>\n",
       "      <td>0.000044</td>\n",
       "    </tr>\n",
       "  </tbody>\n",
       "</table>\n",
       "</div>"
      ],
      "text/plain": [
       "                         Feature  CV_SVM_coefficient\n",
       "0           Type_of_Travel_Index            1.808478\n",
       "1            Customer_Type_Index            1.438164\n",
       "2    On_board_Wifi_Service_Index            0.532586\n",
       "3                    Class_Index            0.518739\n",
       "4    Inflight_Entertaiment_Index            0.243146\n",
       "5         Leg_Room_Service_Index            0.199133\n",
       "6          Online_Boarding_Index            0.184856\n",
       "7          Onboard_Service_Index            0.173198\n",
       "8         Check_in_Service_Index            0.106209\n",
       "9             Seat_Comfort_Index            0.105356\n",
       "10           Gate_Location_Index            0.098999\n",
       "11  Ease_of_Online_Booking_Index            0.079778\n",
       "12        Baggage_Handling_Index            0.067007\n",
       "13                  Gender_Index            0.054921\n",
       "14       Arr_Dept_Time_Cov_Index            0.053949\n",
       "15        Inflight_Service_Index            0.044044\n",
       "16          Food_and_Drink_Index            0.036341\n",
       "17             Cleanliness_Index            0.016071\n",
       "18                 Arrival Delay            0.003260\n",
       "19                           Age            0.002774\n",
       "20               Departure Delay            0.000406\n",
       "21               Flight Distance            0.000044"
      ]
     },
     "execution_count": 58,
     "metadata": {},
     "output_type": "execute_result"
    }
   ],
   "source": [
    "cv_svm_feature_ranking = pd.DataFrame(sorted_svm_cv_importances, columns=['Feature', 'CV_SVM_coefficient'])\n",
    "cv_svm_feature_ranking"
   ]
  },
  {
   "cell_type": "markdown",
   "metadata": {
    "id": "rbTMdpS5WxWc"
   },
   "source": [
    "**RANDOM FOREST MODEL**"
   ]
  },
  {
   "cell_type": "code",
   "execution_count": 59,
   "metadata": {
    "id": "iTKsyxd3XQb0"
   },
   "outputs": [
    {
     "name": "stdout",
     "output_type": "stream",
     "text": [
      "root\n",
      " |-- features: vector (nullable = true)\n",
      " |-- label: double (nullable = false)\n",
      "\n"
     ]
    }
   ],
   "source": [
    "#Copying transformed dataset for the Logistic Regression\n",
    "\n",
    "rf_data = final_data\n",
    "rf_data.printSchema()"
   ]
  },
  {
   "cell_type": "code",
   "execution_count": 60,
   "metadata": {
    "id": "T77DZtQzXWhd"
   },
   "outputs": [],
   "source": [
    "#Split the data into training and test sets\n",
    "\n",
    "train_data_rf, test_data_rf = rf_data.randomSplit([0.7, 0.3], seed=20)"
   ]
  },
  {
   "cell_type": "code",
   "execution_count": 61,
   "metadata": {
    "id": "eAM_RNGnXZTy"
   },
   "outputs": [],
   "source": [
    "#Initialising Random Forest Model\n",
    "\n",
    "rf = RandomForestClassifier(featuresCol='features', labelCol='label', numTrees=100)"
   ]
  },
  {
   "cell_type": "code",
   "execution_count": 62,
   "metadata": {
    "id": "u_QWhiMwXhvd"
   },
   "outputs": [],
   "source": [
    "#Training the Model\n",
    "\n",
    "rf_model = rf.fit(train_data_rf)"
   ]
  },
  {
   "cell_type": "code",
   "execution_count": 63,
   "metadata": {
    "id": "UFm1N0N0XmTO"
   },
   "outputs": [],
   "source": [
    "#The prediction on the test data\n",
    "\n",
    "rf_predictions = rf_model.transform(test_data_rf)"
   ]
  },
  {
   "cell_type": "code",
   "execution_count": 64,
   "metadata": {
    "id": "NOW0CWs4YHtU"
   },
   "outputs": [
    {
     "name": "stdout",
     "output_type": "stream",
     "text": [
      "Random Forest Model Accuracy:  0.93\n",
      "Random Forest Model Weighted Precision:  0.93\n",
      "Random Forest Model Weighted Recall:  0.93\n",
      "Random Forest Model f1:  0.93\n"
     ]
    }
   ],
   "source": [
    "#Evaluating the random forest model\n",
    "\n",
    "rf_accuracy = accuracy_evaluator.evaluate(rf_predictions)\n",
    "rf_weightedPrecision = precision_evaluator.evaluate(rf_predictions)\n",
    "rf_weightedRecall = recall_evaluator.evaluate(rf_predictions)\n",
    "rf_f1 = f1_evaluator.evaluate(rf_predictions)\n",
    "\n",
    "print(f\"Random Forest Model Accuracy: {rf_accuracy: .2f}\")\n",
    "print(f\"Random Forest Model Weighted Precision: {rf_weightedPrecision: .2f}\")\n",
    "print(f\"Random Forest Model Weighted Recall: {rf_weightedRecall: .2f}\")\n",
    "print(f\"Random Forest Model f1: {rf_f1: .2f}\")"
   ]
  },
  {
   "cell_type": "code",
   "execution_count": 65,
   "metadata": {
    "id": "lKE-hDVpYnxR"
   },
   "outputs": [
    {
     "name": "stdout",
     "output_type": "stream",
     "text": [
      "+-----+----------+--------------------+\n",
      "|label|prediction|            features|\n",
      "+-----+----------+--------------------+\n",
      "|  0.0|       0.0|(22,[0,1,2,3,4,5,...|\n",
      "|  0.0|       0.0|(22,[0,1,2,3,4,5,...|\n",
      "|  1.0|       0.0|(22,[0,1,2,3,4,5,...|\n",
      "+-----+----------+--------------------+\n",
      "only showing top 3 rows\n",
      "\n"
     ]
    }
   ],
   "source": [
    "#Preview first three rows of the rf prediction\n",
    "\n",
    "rf_predicted= rf_predictions.select(\"label\", \"prediction\", \"features\")\n",
    "rf_predicted.show(3)"
   ]
  },
  {
   "cell_type": "code",
   "execution_count": 66,
   "metadata": {
    "id": "wgLC-hDgYwO6"
   },
   "outputs": [],
   "source": [
    "#Extract the feature importances\n",
    "\n",
    "rf_importances = rf_model.featureImportances\n",
    "\n",
    "#Matching features to their importances\n",
    "\n",
    "rf_feature_importances = list(zip(feature_columns, rf_importances))\n",
    "\n",
    "#Sort the feature importances in descending order\n",
    "\n",
    "sorted_rf_importances = sorted(rf_feature_importances, key=lambda x: x[1], reverse=True)"
   ]
  },
  {
   "cell_type": "code",
   "execution_count": 67,
   "metadata": {
    "id": "GGxhCQ53Y3d2"
   },
   "outputs": [
    {
     "data": {
      "text/html": [
       "<div>\n",
       "<style scoped>\n",
       "    .dataframe tbody tr th:only-of-type {\n",
       "        vertical-align: middle;\n",
       "    }\n",
       "\n",
       "    .dataframe tbody tr th {\n",
       "        vertical-align: top;\n",
       "    }\n",
       "\n",
       "    .dataframe thead th {\n",
       "        text-align: right;\n",
       "    }\n",
       "</style>\n",
       "<table border=\"1\" class=\"dataframe\">\n",
       "  <thead>\n",
       "    <tr style=\"text-align: right;\">\n",
       "      <th></th>\n",
       "      <th>Feature</th>\n",
       "      <th>RF_Importance</th>\n",
       "    </tr>\n",
       "  </thead>\n",
       "  <tbody>\n",
       "    <tr>\n",
       "      <th>0</th>\n",
       "      <td>Online_Boarding_Index</td>\n",
       "      <td>0.268478</td>\n",
       "    </tr>\n",
       "    <tr>\n",
       "      <th>1</th>\n",
       "      <td>On_board_Wifi_Service_Index</td>\n",
       "      <td>0.146298</td>\n",
       "    </tr>\n",
       "    <tr>\n",
       "      <th>2</th>\n",
       "      <td>Class_Index</td>\n",
       "      <td>0.144601</td>\n",
       "    </tr>\n",
       "    <tr>\n",
       "      <th>3</th>\n",
       "      <td>Type_of_Travel_Index</td>\n",
       "      <td>0.127579</td>\n",
       "    </tr>\n",
       "    <tr>\n",
       "      <th>4</th>\n",
       "      <td>Inflight_Entertaiment_Index</td>\n",
       "      <td>0.076331</td>\n",
       "    </tr>\n",
       "    <tr>\n",
       "      <th>5</th>\n",
       "      <td>Leg_Room_Service_Index</td>\n",
       "      <td>0.039422</td>\n",
       "    </tr>\n",
       "    <tr>\n",
       "      <th>6</th>\n",
       "      <td>Seat_Comfort_Index</td>\n",
       "      <td>0.036813</td>\n",
       "    </tr>\n",
       "    <tr>\n",
       "      <th>7</th>\n",
       "      <td>Ease_of_Online_Booking_Index</td>\n",
       "      <td>0.035299</td>\n",
       "    </tr>\n",
       "    <tr>\n",
       "      <th>8</th>\n",
       "      <td>Onboard_Service_Index</td>\n",
       "      <td>0.029312</td>\n",
       "    </tr>\n",
       "    <tr>\n",
       "      <th>9</th>\n",
       "      <td>Customer_Type_Index</td>\n",
       "      <td>0.022768</td>\n",
       "    </tr>\n",
       "    <tr>\n",
       "      <th>10</th>\n",
       "      <td>Cleanliness_Index</td>\n",
       "      <td>0.017004</td>\n",
       "    </tr>\n",
       "    <tr>\n",
       "      <th>11</th>\n",
       "      <td>Flight Distance</td>\n",
       "      <td>0.015754</td>\n",
       "    </tr>\n",
       "    <tr>\n",
       "      <th>12</th>\n",
       "      <td>Inflight_Service_Index</td>\n",
       "      <td>0.009430</td>\n",
       "    </tr>\n",
       "    <tr>\n",
       "      <th>13</th>\n",
       "      <td>Baggage_Handling_Index</td>\n",
       "      <td>0.008069</td>\n",
       "    </tr>\n",
       "    <tr>\n",
       "      <th>14</th>\n",
       "      <td>Check_in_Service_Index</td>\n",
       "      <td>0.006396</td>\n",
       "    </tr>\n",
       "    <tr>\n",
       "      <th>15</th>\n",
       "      <td>Age</td>\n",
       "      <td>0.005313</td>\n",
       "    </tr>\n",
       "    <tr>\n",
       "      <th>16</th>\n",
       "      <td>Arr_Dept_Time_Cov_Index</td>\n",
       "      <td>0.003973</td>\n",
       "    </tr>\n",
       "    <tr>\n",
       "      <th>17</th>\n",
       "      <td>Food_and_Drink_Index</td>\n",
       "      <td>0.003226</td>\n",
       "    </tr>\n",
       "    <tr>\n",
       "      <th>18</th>\n",
       "      <td>Gate_Location_Index</td>\n",
       "      <td>0.002639</td>\n",
       "    </tr>\n",
       "    <tr>\n",
       "      <th>19</th>\n",
       "      <td>Arrival Delay</td>\n",
       "      <td>0.000554</td>\n",
       "    </tr>\n",
       "    <tr>\n",
       "      <th>20</th>\n",
       "      <td>Gender_Index</td>\n",
       "      <td>0.000492</td>\n",
       "    </tr>\n",
       "    <tr>\n",
       "      <th>21</th>\n",
       "      <td>Departure Delay</td>\n",
       "      <td>0.000250</td>\n",
       "    </tr>\n",
       "  </tbody>\n",
       "</table>\n",
       "</div>"
      ],
      "text/plain": [
       "                         Feature  RF_Importance\n",
       "0          Online_Boarding_Index       0.268478\n",
       "1    On_board_Wifi_Service_Index       0.146298\n",
       "2                    Class_Index       0.144601\n",
       "3           Type_of_Travel_Index       0.127579\n",
       "4    Inflight_Entertaiment_Index       0.076331\n",
       "5         Leg_Room_Service_Index       0.039422\n",
       "6             Seat_Comfort_Index       0.036813\n",
       "7   Ease_of_Online_Booking_Index       0.035299\n",
       "8          Onboard_Service_Index       0.029312\n",
       "9            Customer_Type_Index       0.022768\n",
       "10             Cleanliness_Index       0.017004\n",
       "11               Flight Distance       0.015754\n",
       "12        Inflight_Service_Index       0.009430\n",
       "13        Baggage_Handling_Index       0.008069\n",
       "14        Check_in_Service_Index       0.006396\n",
       "15                           Age       0.005313\n",
       "16       Arr_Dept_Time_Cov_Index       0.003973\n",
       "17          Food_and_Drink_Index       0.003226\n",
       "18           Gate_Location_Index       0.002639\n",
       "19                 Arrival Delay       0.000554\n",
       "20                  Gender_Index       0.000492\n",
       "21               Departure Delay       0.000250"
      ]
     },
     "execution_count": 67,
     "metadata": {},
     "output_type": "execute_result"
    }
   ],
   "source": [
    "rf_feature_ranking = pd.DataFrame(sorted_rf_importances, columns=['Feature', 'RF_Importance'])\n",
    "rf_feature_ranking"
   ]
  },
  {
   "cell_type": "markdown",
   "metadata": {
    "id": "CVpGNgaAZMfs"
   },
   "source": [
    "***Applying Hyperparameter tunning to the Random Forest***"
   ]
  },
  {
   "cell_type": "code",
   "execution_count": null,
   "metadata": {},
   "outputs": [],
   "source": []
  },
  {
   "cell_type": "code",
   "execution_count": 68,
   "metadata": {
    "id": "k5BQp_xVZSQg"
   },
   "outputs": [],
   "source": [
    "#Defining the\n",
    "\n",
    "rf_param_grid = (ParamGridBuilder()\n",
    "              .addGrid(rf.numTrees, [50, 100, 150])\n",
    "              .addGrid(rf.maxDepth, [5, 10, 15])\n",
    "              .addGrid(rf.maxBins, [32, 64])\n",
    "              .build())"
   ]
  },
  {
   "cell_type": "code",
   "execution_count": 69,
   "metadata": {
    "id": "Y1VuMeVhdBmK"
   },
   "outputs": [],
   "source": [
    "#The cross-validator\n",
    "\n",
    "rf_crossval = CrossValidator(estimator=rf,\n",
    "                          estimatorParamMaps=rf_param_grid,\n",
    "                          evaluator=accuracy_evaluator,\n",
    "                          numFolds=3)"
   ]
  },
  {
   "cell_type": "code",
   "execution_count": 70,
   "metadata": {
    "id": "xHIpWFsmdUrN"
   },
   "outputs": [
    {
     "name": "stderr",
     "output_type": "stream",
     "text": [
      "----------------------------------------\n",
      "Exception occurred during processing of request from ('127.0.0.1', 62157)\n",
      "Traceback (most recent call last):\n",
      "  File \"C:\\Users\\eniha\\anaconda3\\Lib\\socketserver.py\", line 317, in _handle_request_noblock\n",
      "    self.process_request(request, client_address)\n",
      "  File \"C:\\Users\\eniha\\anaconda3\\Lib\\socketserver.py\", line 348, in process_request\n",
      "    self.finish_request(request, client_address)\n",
      "  File \"C:\\Users\\eniha\\anaconda3\\Lib\\socketserver.py\", line 361, in finish_request\n",
      "    self.RequestHandlerClass(request, client_address, self)\n",
      "  File \"C:\\Users\\eniha\\anaconda3\\Lib\\socketserver.py\", line 755, in __init__\n",
      "    self.handle()\n",
      "  File \"C:\\Users\\eniha\\anaconda3\\Lib\\site-packages\\pyspark\\accumulators.py\", line 295, in handle\n",
      "    poll(accum_updates)\n",
      "  File \"C:\\Users\\eniha\\anaconda3\\Lib\\site-packages\\pyspark\\accumulators.py\", line 267, in poll\n",
      "    if self.rfile in r and func():\n",
      "                           ^^^^^^\n",
      "  File \"C:\\Users\\eniha\\anaconda3\\Lib\\site-packages\\pyspark\\accumulators.py\", line 271, in accum_updates\n",
      "    num_updates = read_int(self.rfile)\n",
      "                  ^^^^^^^^^^^^^^^^^^^^\n",
      "  File \"C:\\Users\\eniha\\anaconda3\\Lib\\site-packages\\pyspark\\serializers.py\", line 594, in read_int\n",
      "    length = stream.read(4)\n",
      "             ^^^^^^^^^^^^^^\n",
      "  File \"C:\\Users\\eniha\\anaconda3\\Lib\\socket.py\", line 718, in readinto\n",
      "    return self._sock.recv_into(b)\n",
      "           ^^^^^^^^^^^^^^^^^^^^^^^\n",
      "ConnectionResetError: [WinError 10054] An existing connection was forcibly closed by the remote host\n",
      "----------------------------------------\n",
      "ERROR:root:Exception while sending command.\n",
      "Traceback (most recent call last):\n",
      "  File \"C:\\Users\\eniha\\anaconda3\\Lib\\site-packages\\py4j\\clientserver.py\", line 511, in send_command\n",
      "    answer = smart_decode(self.stream.readline()[:-1])\n",
      "                          ^^^^^^^^^^^^^^^^^^^^^^\n",
      "  File \"C:\\Users\\eniha\\anaconda3\\Lib\\socket.py\", line 718, in readinto\n",
      "    return self._sock.recv_into(b)\n",
      "           ^^^^^^^^^^^^^^^^^^^^^^^\n",
      "ConnectionResetError: [WinError 10054] An existing connection was forcibly closed by the remote host\n",
      "\n",
      "During handling of the above exception, another exception occurred:\n",
      "\n",
      "Traceback (most recent call last):\n",
      "  File \"C:\\Users\\eniha\\anaconda3\\Lib\\site-packages\\py4j\\java_gateway.py\", line 1038, in send_command\n",
      "    response = connection.send_command(command)\n",
      "               ^^^^^^^^^^^^^^^^^^^^^^^^^^^^^^^^\n",
      "  File \"C:\\Users\\eniha\\anaconda3\\Lib\\site-packages\\py4j\\clientserver.py\", line 539, in send_command\n",
      "    raise Py4JNetworkError(\n",
      "py4j.protocol.Py4JNetworkError: Error while sending or receiving\n",
      "ERROR:root:Exception while sending command.\n",
      "Traceback (most recent call last):\n",
      "  File \"C:\\Users\\eniha\\anaconda3\\Lib\\site-packages\\pyspark\\errors\\exceptions\\captured.py\", line 179, in deco\n",
      "    return f(*a, **kw)\n",
      "           ^^^^^^^^^^^\n",
      "  File \"C:\\Users\\eniha\\anaconda3\\Lib\\site-packages\\py4j\\protocol.py\", line 326, in get_return_value\n",
      "    raise Py4JJavaError(\n",
      "py4j.protocol.Py4JJavaError: <exception str() failed>\n",
      "\n",
      "During handling of the above exception, another exception occurred:\n",
      "\n",
      "Traceback (most recent call last):\n",
      "  File \"C:\\Users\\eniha\\anaconda3\\Lib\\site-packages\\py4j\\clientserver.py\", line 511, in send_command\n",
      "    answer = smart_decode(self.stream.readline()[:-1])\n",
      "                          ^^^^^^^^^^^^^^^^^^^^^^\n",
      "  File \"C:\\Users\\eniha\\anaconda3\\Lib\\socket.py\", line 718, in readinto\n",
      "    return self._sock.recv_into(b)\n",
      "           ^^^^^^^^^^^^^^^^^^^^^^^\n",
      "ConnectionResetError: [WinError 10054] An existing connection was forcibly closed by the remote host\n",
      "\n",
      "During handling of the above exception, another exception occurred:\n",
      "\n",
      "Traceback (most recent call last):\n",
      "  File \"C:\\Users\\eniha\\anaconda3\\Lib\\site-packages\\py4j\\java_gateway.py\", line 1038, in send_command\n",
      "    response = connection.send_command(command)\n",
      "               ^^^^^^^^^^^^^^^^^^^^^^^^^^^^^^^^\n",
      "  File \"C:\\Users\\eniha\\anaconda3\\Lib\\site-packages\\py4j\\clientserver.py\", line 539, in send_command\n",
      "    raise Py4JNetworkError(\n",
      "py4j.protocol.Py4JNetworkError: Error while sending or receiving\n"
     ]
    },
    {
     "ename": "ConnectionRefusedError",
     "evalue": "[WinError 10061] No connection could be made because the target machine actively refused it",
     "output_type": "error",
     "traceback": [
      "\u001b[1;31m---------------------------------------------------------------------------\u001b[0m",
      "\u001b[1;31mPy4JJavaError\u001b[0m                             Traceback (most recent call last)",
      "    \u001b[1;31m[... skipping hidden 1 frame]\u001b[0m\n",
      "Cell \u001b[1;32mIn[70], line 3\u001b[0m\n\u001b[0;32m      1\u001b[0m \u001b[38;5;66;03m#Training the model\u001b[39;00m\n\u001b[1;32m----> 3\u001b[0m rf_cv_model \u001b[38;5;241m=\u001b[39m rf_crossval\u001b[38;5;241m.\u001b[39mfit(train_data_rf)\n",
      "File \u001b[1;32m~\\anaconda3\\Lib\\site-packages\\pyspark\\ml\\base.py:205\u001b[0m, in \u001b[0;36mEstimator.fit\u001b[1;34m(self, dataset, params)\u001b[0m\n\u001b[0;32m    204\u001b[0m     \u001b[38;5;28;01melse\u001b[39;00m:\n\u001b[1;32m--> 205\u001b[0m         \u001b[38;5;28;01mreturn\u001b[39;00m \u001b[38;5;28mself\u001b[39m\u001b[38;5;241m.\u001b[39m_fit(dataset)\n\u001b[0;32m    206\u001b[0m \u001b[38;5;28;01melse\u001b[39;00m:\n",
      "File \u001b[1;32m~\\anaconda3\\Lib\\site-packages\\pyspark\\ml\\tuning.py:847\u001b[0m, in \u001b[0;36mCrossValidator._fit\u001b[1;34m(self, dataset)\u001b[0m\n\u001b[0;32m    843\u001b[0m tasks \u001b[38;5;241m=\u001b[39m \u001b[38;5;28mmap\u001b[39m(\n\u001b[0;32m    844\u001b[0m     inheritable_thread_target,\n\u001b[0;32m    845\u001b[0m     _parallelFitTasks(est, train, eva, validation, epm, collectSubModelsParam),\n\u001b[0;32m    846\u001b[0m )\n\u001b[1;32m--> 847\u001b[0m \u001b[38;5;28;01mfor\u001b[39;00m j, metric, subModel \u001b[38;5;129;01min\u001b[39;00m pool\u001b[38;5;241m.\u001b[39mimap_unordered(\u001b[38;5;28;01mlambda\u001b[39;00m f: f(), tasks):\n\u001b[0;32m    848\u001b[0m     metrics_all[i][j] \u001b[38;5;241m=\u001b[39m metric\n",
      "File \u001b[1;32m~\\anaconda3\\Lib\\multiprocessing\\pool.py:873\u001b[0m, in \u001b[0;36mIMapIterator.next\u001b[1;34m(self, timeout)\u001b[0m\n\u001b[0;32m    872\u001b[0m     \u001b[38;5;28;01mreturn\u001b[39;00m value\n\u001b[1;32m--> 873\u001b[0m \u001b[38;5;28;01mraise\u001b[39;00m value\n",
      "File \u001b[1;32m~\\anaconda3\\Lib\\multiprocessing\\pool.py:125\u001b[0m, in \u001b[0;36mworker\u001b[1;34m(inqueue, outqueue, initializer, initargs, maxtasks, wrap_exception)\u001b[0m\n\u001b[0;32m    124\u001b[0m \u001b[38;5;28;01mtry\u001b[39;00m:\n\u001b[1;32m--> 125\u001b[0m     result \u001b[38;5;241m=\u001b[39m (\u001b[38;5;28;01mTrue\u001b[39;00m, func(\u001b[38;5;241m*\u001b[39margs, \u001b[38;5;241m*\u001b[39m\u001b[38;5;241m*\u001b[39mkwds))\n\u001b[0;32m    126\u001b[0m \u001b[38;5;28;01mexcept\u001b[39;00m \u001b[38;5;167;01mException\u001b[39;00m \u001b[38;5;28;01mas\u001b[39;00m e:\n",
      "File \u001b[1;32m~\\anaconda3\\Lib\\site-packages\\pyspark\\ml\\tuning.py:847\u001b[0m, in \u001b[0;36mCrossValidator._fit.<locals>.<lambda>\u001b[1;34m(f)\u001b[0m\n\u001b[0;32m    843\u001b[0m tasks \u001b[38;5;241m=\u001b[39m \u001b[38;5;28mmap\u001b[39m(\n\u001b[0;32m    844\u001b[0m     inheritable_thread_target,\n\u001b[0;32m    845\u001b[0m     _parallelFitTasks(est, train, eva, validation, epm, collectSubModelsParam),\n\u001b[0;32m    846\u001b[0m )\n\u001b[1;32m--> 847\u001b[0m \u001b[38;5;28;01mfor\u001b[39;00m j, metric, subModel \u001b[38;5;129;01min\u001b[39;00m pool\u001b[38;5;241m.\u001b[39mimap_unordered(\u001b[38;5;28;01mlambda\u001b[39;00m f: f(), tasks):\n\u001b[0;32m    848\u001b[0m     metrics_all[i][j] \u001b[38;5;241m=\u001b[39m metric\n",
      "File \u001b[1;32m~\\anaconda3\\Lib\\site-packages\\pyspark\\util.py:342\u001b[0m, in \u001b[0;36minheritable_thread_target.<locals>.wrapped\u001b[1;34m(*args, **kwargs)\u001b[0m\n\u001b[0;32m    341\u001b[0m SparkContext\u001b[38;5;241m.\u001b[39m_active_spark_context\u001b[38;5;241m.\u001b[39m_jsc\u001b[38;5;241m.\u001b[39msc()\u001b[38;5;241m.\u001b[39msetLocalProperties(properties)\n\u001b[1;32m--> 342\u001b[0m \u001b[38;5;28;01mreturn\u001b[39;00m f(\u001b[38;5;241m*\u001b[39margs, \u001b[38;5;241m*\u001b[39m\u001b[38;5;241m*\u001b[39mkwargs)\n",
      "File \u001b[1;32m~\\anaconda3\\Lib\\site-packages\\pyspark\\ml\\tuning.py:113\u001b[0m, in \u001b[0;36m_parallelFitTasks.<locals>.singleTask\u001b[1;34m()\u001b[0m\n\u001b[0;32m    112\u001b[0m \u001b[38;5;28;01mdef\u001b[39;00m \u001b[38;5;21msingleTask\u001b[39m() \u001b[38;5;241m-\u001b[39m\u001b[38;5;241m>\u001b[39m Tuple[\u001b[38;5;28mint\u001b[39m, \u001b[38;5;28mfloat\u001b[39m, Transformer]:\n\u001b[1;32m--> 113\u001b[0m     index, model \u001b[38;5;241m=\u001b[39m \u001b[38;5;28mnext\u001b[39m(modelIter)\n\u001b[0;32m    114\u001b[0m     \u001b[38;5;66;03m# TODO: duplicate evaluator to take extra params from input\u001b[39;00m\n\u001b[0;32m    115\u001b[0m     \u001b[38;5;66;03m#  Note: Supporting tuning params in evaluator need update method\u001b[39;00m\n\u001b[0;32m    116\u001b[0m     \u001b[38;5;66;03m#  `MetaAlgorithmReadWrite.getAllNestedStages`, make it return\u001b[39;00m\n\u001b[0;32m    117\u001b[0m     \u001b[38;5;66;03m#  all nested stages and evaluators\u001b[39;00m\n",
      "File \u001b[1;32m~\\anaconda3\\Lib\\site-packages\\pyspark\\ml\\base.py:98\u001b[0m, in \u001b[0;36m_FitMultipleIterator.__next__\u001b[1;34m(self)\u001b[0m\n\u001b[0;32m     97\u001b[0m     \u001b[38;5;28mself\u001b[39m\u001b[38;5;241m.\u001b[39mcounter \u001b[38;5;241m+\u001b[39m\u001b[38;5;241m=\u001b[39m \u001b[38;5;241m1\u001b[39m\n\u001b[1;32m---> 98\u001b[0m \u001b[38;5;28;01mreturn\u001b[39;00m index, \u001b[38;5;28mself\u001b[39m\u001b[38;5;241m.\u001b[39mfitSingleModel(index)\n",
      "File \u001b[1;32m~\\anaconda3\\Lib\\site-packages\\pyspark\\ml\\base.py:156\u001b[0m, in \u001b[0;36mEstimator.fitMultiple.<locals>.fitSingleModel\u001b[1;34m(index)\u001b[0m\n\u001b[0;32m    155\u001b[0m \u001b[38;5;28;01mdef\u001b[39;00m \u001b[38;5;21mfitSingleModel\u001b[39m(index: \u001b[38;5;28mint\u001b[39m) \u001b[38;5;241m-\u001b[39m\u001b[38;5;241m>\u001b[39m M:\n\u001b[1;32m--> 156\u001b[0m     \u001b[38;5;28;01mreturn\u001b[39;00m estimator\u001b[38;5;241m.\u001b[39mfit(dataset, paramMaps[index])\n",
      "File \u001b[1;32m~\\anaconda3\\Lib\\site-packages\\pyspark\\ml\\base.py:203\u001b[0m, in \u001b[0;36mEstimator.fit\u001b[1;34m(self, dataset, params)\u001b[0m\n\u001b[0;32m    202\u001b[0m \u001b[38;5;28;01mif\u001b[39;00m params:\n\u001b[1;32m--> 203\u001b[0m     \u001b[38;5;28;01mreturn\u001b[39;00m \u001b[38;5;28mself\u001b[39m\u001b[38;5;241m.\u001b[39mcopy(params)\u001b[38;5;241m.\u001b[39m_fit(dataset)\n\u001b[0;32m    204\u001b[0m \u001b[38;5;28;01melse\u001b[39;00m:\n",
      "File \u001b[1;32m~\\anaconda3\\Lib\\site-packages\\pyspark\\ml\\wrapper.py:381\u001b[0m, in \u001b[0;36mJavaEstimator._fit\u001b[1;34m(self, dataset)\u001b[0m\n\u001b[0;32m    380\u001b[0m \u001b[38;5;28;01mdef\u001b[39;00m \u001b[38;5;21m_fit\u001b[39m(\u001b[38;5;28mself\u001b[39m, dataset: DataFrame) \u001b[38;5;241m-\u001b[39m\u001b[38;5;241m>\u001b[39m JM:\n\u001b[1;32m--> 381\u001b[0m     java_model \u001b[38;5;241m=\u001b[39m \u001b[38;5;28mself\u001b[39m\u001b[38;5;241m.\u001b[39m_fit_java(dataset)\n\u001b[0;32m    382\u001b[0m     model \u001b[38;5;241m=\u001b[39m \u001b[38;5;28mself\u001b[39m\u001b[38;5;241m.\u001b[39m_create_model(java_model)\n",
      "File \u001b[1;32m~\\anaconda3\\Lib\\site-packages\\pyspark\\ml\\wrapper.py:378\u001b[0m, in \u001b[0;36mJavaEstimator._fit_java\u001b[1;34m(self, dataset)\u001b[0m\n\u001b[0;32m    377\u001b[0m \u001b[38;5;28mself\u001b[39m\u001b[38;5;241m.\u001b[39m_transfer_params_to_java()\n\u001b[1;32m--> 378\u001b[0m \u001b[38;5;28;01mreturn\u001b[39;00m \u001b[38;5;28mself\u001b[39m\u001b[38;5;241m.\u001b[39m_java_obj\u001b[38;5;241m.\u001b[39mfit(dataset\u001b[38;5;241m.\u001b[39m_jdf)\n",
      "File \u001b[1;32m~\\anaconda3\\Lib\\site-packages\\py4j\\java_gateway.py:1322\u001b[0m, in \u001b[0;36mJavaMember.__call__\u001b[1;34m(self, *args)\u001b[0m\n\u001b[0;32m   1321\u001b[0m answer \u001b[38;5;241m=\u001b[39m \u001b[38;5;28mself\u001b[39m\u001b[38;5;241m.\u001b[39mgateway_client\u001b[38;5;241m.\u001b[39msend_command(command)\n\u001b[1;32m-> 1322\u001b[0m return_value \u001b[38;5;241m=\u001b[39m get_return_value(\n\u001b[0;32m   1323\u001b[0m     answer, \u001b[38;5;28mself\u001b[39m\u001b[38;5;241m.\u001b[39mgateway_client, \u001b[38;5;28mself\u001b[39m\u001b[38;5;241m.\u001b[39mtarget_id, \u001b[38;5;28mself\u001b[39m\u001b[38;5;241m.\u001b[39mname)\n\u001b[0;32m   1325\u001b[0m \u001b[38;5;28;01mfor\u001b[39;00m temp_arg \u001b[38;5;129;01min\u001b[39;00m temp_args:\n",
      "File \u001b[1;32m~\\anaconda3\\Lib\\site-packages\\pyspark\\errors\\exceptions\\captured.py:179\u001b[0m, in \u001b[0;36mcapture_sql_exception.<locals>.deco\u001b[1;34m(*a, **kw)\u001b[0m\n\u001b[0;32m    178\u001b[0m \u001b[38;5;28;01mtry\u001b[39;00m:\n\u001b[1;32m--> 179\u001b[0m     \u001b[38;5;28;01mreturn\u001b[39;00m f(\u001b[38;5;241m*\u001b[39ma, \u001b[38;5;241m*\u001b[39m\u001b[38;5;241m*\u001b[39mkw)\n\u001b[0;32m    180\u001b[0m \u001b[38;5;28;01mexcept\u001b[39;00m Py4JJavaError \u001b[38;5;28;01mas\u001b[39;00m e:\n",
      "File \u001b[1;32m~\\anaconda3\\Lib\\site-packages\\py4j\\protocol.py:326\u001b[0m, in \u001b[0;36mget_return_value\u001b[1;34m(answer, gateway_client, target_id, name)\u001b[0m\n\u001b[0;32m    325\u001b[0m \u001b[38;5;28;01mif\u001b[39;00m answer[\u001b[38;5;241m1\u001b[39m] \u001b[38;5;241m==\u001b[39m REFERENCE_TYPE:\n\u001b[1;32m--> 326\u001b[0m     \u001b[38;5;28;01mraise\u001b[39;00m Py4JJavaError(\n\u001b[0;32m    327\u001b[0m         \u001b[38;5;124m\"\u001b[39m\u001b[38;5;124mAn error occurred while calling \u001b[39m\u001b[38;5;132;01m{0}\u001b[39;00m\u001b[38;5;132;01m{1}\u001b[39;00m\u001b[38;5;132;01m{2}\u001b[39;00m\u001b[38;5;124m.\u001b[39m\u001b[38;5;130;01m\\n\u001b[39;00m\u001b[38;5;124m\"\u001b[39m\u001b[38;5;241m.\u001b[39m\n\u001b[0;32m    328\u001b[0m         \u001b[38;5;28mformat\u001b[39m(target_id, \u001b[38;5;124m\"\u001b[39m\u001b[38;5;124m.\u001b[39m\u001b[38;5;124m\"\u001b[39m, name), value)\n\u001b[0;32m    329\u001b[0m \u001b[38;5;28;01melse\u001b[39;00m:\n",
      "\u001b[1;31m<class 'str'>\u001b[0m: (<class 'ConnectionRefusedError'>, ConnectionRefusedError(10061, 'No connection could be made because the target machine actively refused it', None, 10061, None))",
      "\nDuring handling of the above exception, another exception occurred:\n",
      "\u001b[1;31mConnectionRefusedError\u001b[0m                    Traceback (most recent call last)",
      "    \u001b[1;31m[... skipping hidden 1 frame]\u001b[0m\n",
      "File \u001b[1;32m~\\anaconda3\\Lib\\site-packages\\IPython\\core\\interactiveshell.py:2179\u001b[0m, in \u001b[0;36mInteractiveShell.showtraceback\u001b[1;34m(self, exc_tuple, filename, tb_offset, exception_only, running_compiled_code)\u001b[0m\n\u001b[0;32m   2176\u001b[0m         traceback\u001b[38;5;241m.\u001b[39mprint_exc()\n\u001b[0;32m   2177\u001b[0m         \u001b[38;5;28;01mreturn\u001b[39;00m \u001b[38;5;28;01mNone\u001b[39;00m\n\u001b[1;32m-> 2179\u001b[0m     \u001b[38;5;28mself\u001b[39m\u001b[38;5;241m.\u001b[39m_showtraceback(etype, value, stb)\n\u001b[0;32m   2180\u001b[0m \u001b[38;5;28;01mif\u001b[39;00m \u001b[38;5;28mself\u001b[39m\u001b[38;5;241m.\u001b[39mcall_pdb:\n\u001b[0;32m   2181\u001b[0m     \u001b[38;5;66;03m# drop into debugger\u001b[39;00m\n\u001b[0;32m   2182\u001b[0m     \u001b[38;5;28mself\u001b[39m\u001b[38;5;241m.\u001b[39mdebugger(force\u001b[38;5;241m=\u001b[39m\u001b[38;5;28;01mTrue\u001b[39;00m)\n",
      "File \u001b[1;32m~\\anaconda3\\Lib\\site-packages\\ipykernel\\zmqshell.py:556\u001b[0m, in \u001b[0;36mZMQInteractiveShell._showtraceback\u001b[1;34m(self, etype, evalue, stb)\u001b[0m\n\u001b[0;32m    550\u001b[0m sys\u001b[38;5;241m.\u001b[39mstdout\u001b[38;5;241m.\u001b[39mflush()\n\u001b[0;32m    551\u001b[0m sys\u001b[38;5;241m.\u001b[39mstderr\u001b[38;5;241m.\u001b[39mflush()\n\u001b[0;32m    553\u001b[0m exc_content \u001b[38;5;241m=\u001b[39m {\n\u001b[0;32m    554\u001b[0m     \u001b[38;5;124m\"\u001b[39m\u001b[38;5;124mtraceback\u001b[39m\u001b[38;5;124m\"\u001b[39m: stb,\n\u001b[0;32m    555\u001b[0m     \u001b[38;5;124m\"\u001b[39m\u001b[38;5;124mename\u001b[39m\u001b[38;5;124m\"\u001b[39m: \u001b[38;5;28mstr\u001b[39m(etype\u001b[38;5;241m.\u001b[39m\u001b[38;5;18m__name__\u001b[39m),\n\u001b[1;32m--> 556\u001b[0m     \u001b[38;5;124m\"\u001b[39m\u001b[38;5;124mevalue\u001b[39m\u001b[38;5;124m\"\u001b[39m: \u001b[38;5;28mstr\u001b[39m(evalue),\n\u001b[0;32m    557\u001b[0m }\n\u001b[0;32m    559\u001b[0m dh \u001b[38;5;241m=\u001b[39m \u001b[38;5;28mself\u001b[39m\u001b[38;5;241m.\u001b[39mdisplayhook\n\u001b[0;32m    560\u001b[0m \u001b[38;5;66;03m# Send exception info over pub socket for other clients than the caller\u001b[39;00m\n\u001b[0;32m    561\u001b[0m \u001b[38;5;66;03m# to pick up\u001b[39;00m\n",
      "File \u001b[1;32m~\\anaconda3\\Lib\\site-packages\\py4j\\protocol.py:471\u001b[0m, in \u001b[0;36mPy4JJavaError.__str__\u001b[1;34m(self)\u001b[0m\n\u001b[0;32m    469\u001b[0m \u001b[38;5;28;01mdef\u001b[39;00m \u001b[38;5;21m__str__\u001b[39m(\u001b[38;5;28mself\u001b[39m):\n\u001b[0;32m    470\u001b[0m     gateway_client \u001b[38;5;241m=\u001b[39m \u001b[38;5;28mself\u001b[39m\u001b[38;5;241m.\u001b[39mjava_exception\u001b[38;5;241m.\u001b[39m_gateway_client\n\u001b[1;32m--> 471\u001b[0m     answer \u001b[38;5;241m=\u001b[39m gateway_client\u001b[38;5;241m.\u001b[39msend_command(\u001b[38;5;28mself\u001b[39m\u001b[38;5;241m.\u001b[39mexception_cmd)\n\u001b[0;32m    472\u001b[0m     return_value \u001b[38;5;241m=\u001b[39m get_return_value(answer, gateway_client, \u001b[38;5;28;01mNone\u001b[39;00m, \u001b[38;5;28;01mNone\u001b[39;00m)\n\u001b[0;32m    473\u001b[0m     \u001b[38;5;66;03m# Note: technically this should return a bytestring 'str' rather than\u001b[39;00m\n\u001b[0;32m    474\u001b[0m     \u001b[38;5;66;03m# unicodes in Python 2; however, it can return unicodes for now.\u001b[39;00m\n\u001b[0;32m    475\u001b[0m     \u001b[38;5;66;03m# See https://github.com/bartdag/py4j/issues/306 for more details.\u001b[39;00m\n",
      "File \u001b[1;32m~\\anaconda3\\Lib\\site-packages\\py4j\\java_gateway.py:1036\u001b[0m, in \u001b[0;36mGatewayClient.send_command\u001b[1;34m(self, command, retry, binary)\u001b[0m\n\u001b[0;32m   1015\u001b[0m \u001b[38;5;28;01mdef\u001b[39;00m \u001b[38;5;21msend_command\u001b[39m(\u001b[38;5;28mself\u001b[39m, command, retry\u001b[38;5;241m=\u001b[39m\u001b[38;5;28;01mTrue\u001b[39;00m, binary\u001b[38;5;241m=\u001b[39m\u001b[38;5;28;01mFalse\u001b[39;00m):\n\u001b[0;32m   1016\u001b[0m \u001b[38;5;250m    \u001b[39m\u001b[38;5;124;03m\"\"\"Sends a command to the JVM. This method is not intended to be\u001b[39;00m\n\u001b[0;32m   1017\u001b[0m \u001b[38;5;124;03m       called directly by Py4J users. It is usually called by\u001b[39;00m\n\u001b[0;32m   1018\u001b[0m \u001b[38;5;124;03m       :class:`JavaMember` instances.\u001b[39;00m\n\u001b[1;32m   (...)\u001b[0m\n\u001b[0;32m   1034\u001b[0m \u001b[38;5;124;03m     if `binary` is `True`.\u001b[39;00m\n\u001b[0;32m   1035\u001b[0m \u001b[38;5;124;03m    \"\"\"\u001b[39;00m\n\u001b[1;32m-> 1036\u001b[0m     connection \u001b[38;5;241m=\u001b[39m \u001b[38;5;28mself\u001b[39m\u001b[38;5;241m.\u001b[39m_get_connection()\n\u001b[0;32m   1037\u001b[0m     \u001b[38;5;28;01mtry\u001b[39;00m:\n\u001b[0;32m   1038\u001b[0m         response \u001b[38;5;241m=\u001b[39m connection\u001b[38;5;241m.\u001b[39msend_command(command)\n",
      "File \u001b[1;32m~\\anaconda3\\Lib\\site-packages\\py4j\\clientserver.py:284\u001b[0m, in \u001b[0;36mJavaClient._get_connection\u001b[1;34m(self)\u001b[0m\n\u001b[0;32m    281\u001b[0m     \u001b[38;5;28;01mpass\u001b[39;00m\n\u001b[0;32m    283\u001b[0m \u001b[38;5;28;01mif\u001b[39;00m connection \u001b[38;5;129;01mis\u001b[39;00m \u001b[38;5;28;01mNone\u001b[39;00m \u001b[38;5;129;01mor\u001b[39;00m connection\u001b[38;5;241m.\u001b[39msocket \u001b[38;5;129;01mis\u001b[39;00m \u001b[38;5;28;01mNone\u001b[39;00m:\n\u001b[1;32m--> 284\u001b[0m     connection \u001b[38;5;241m=\u001b[39m \u001b[38;5;28mself\u001b[39m\u001b[38;5;241m.\u001b[39m_create_new_connection()\n\u001b[0;32m    285\u001b[0m \u001b[38;5;28;01mreturn\u001b[39;00m connection\n",
      "File \u001b[1;32m~\\anaconda3\\Lib\\site-packages\\py4j\\clientserver.py:291\u001b[0m, in \u001b[0;36mJavaClient._create_new_connection\u001b[1;34m(self)\u001b[0m\n\u001b[0;32m    287\u001b[0m \u001b[38;5;28;01mdef\u001b[39;00m \u001b[38;5;21m_create_new_connection\u001b[39m(\u001b[38;5;28mself\u001b[39m):\n\u001b[0;32m    288\u001b[0m     connection \u001b[38;5;241m=\u001b[39m ClientServerConnection(\n\u001b[0;32m    289\u001b[0m         \u001b[38;5;28mself\u001b[39m\u001b[38;5;241m.\u001b[39mjava_parameters, \u001b[38;5;28mself\u001b[39m\u001b[38;5;241m.\u001b[39mpython_parameters,\n\u001b[0;32m    290\u001b[0m         \u001b[38;5;28mself\u001b[39m\u001b[38;5;241m.\u001b[39mgateway_property, \u001b[38;5;28mself\u001b[39m)\n\u001b[1;32m--> 291\u001b[0m     connection\u001b[38;5;241m.\u001b[39mconnect_to_java_server()\n\u001b[0;32m    292\u001b[0m     \u001b[38;5;28mself\u001b[39m\u001b[38;5;241m.\u001b[39mset_thread_connection(connection)\n\u001b[0;32m    293\u001b[0m     \u001b[38;5;28;01mreturn\u001b[39;00m connection\n",
      "File \u001b[1;32m~\\anaconda3\\Lib\\site-packages\\py4j\\clientserver.py:438\u001b[0m, in \u001b[0;36mClientServerConnection.connect_to_java_server\u001b[1;34m(self)\u001b[0m\n\u001b[0;32m    435\u001b[0m \u001b[38;5;28;01mif\u001b[39;00m \u001b[38;5;28mself\u001b[39m\u001b[38;5;241m.\u001b[39mssl_context:\n\u001b[0;32m    436\u001b[0m     \u001b[38;5;28mself\u001b[39m\u001b[38;5;241m.\u001b[39msocket \u001b[38;5;241m=\u001b[39m \u001b[38;5;28mself\u001b[39m\u001b[38;5;241m.\u001b[39mssl_context\u001b[38;5;241m.\u001b[39mwrap_socket(\n\u001b[0;32m    437\u001b[0m         \u001b[38;5;28mself\u001b[39m\u001b[38;5;241m.\u001b[39msocket, server_hostname\u001b[38;5;241m=\u001b[39m\u001b[38;5;28mself\u001b[39m\u001b[38;5;241m.\u001b[39mjava_address)\n\u001b[1;32m--> 438\u001b[0m \u001b[38;5;28mself\u001b[39m\u001b[38;5;241m.\u001b[39msocket\u001b[38;5;241m.\u001b[39mconnect((\u001b[38;5;28mself\u001b[39m\u001b[38;5;241m.\u001b[39mjava_address, \u001b[38;5;28mself\u001b[39m\u001b[38;5;241m.\u001b[39mjava_port))\n\u001b[0;32m    439\u001b[0m \u001b[38;5;28mself\u001b[39m\u001b[38;5;241m.\u001b[39mstream \u001b[38;5;241m=\u001b[39m \u001b[38;5;28mself\u001b[39m\u001b[38;5;241m.\u001b[39msocket\u001b[38;5;241m.\u001b[39mmakefile(\u001b[38;5;124m\"\u001b[39m\u001b[38;5;124mrb\u001b[39m\u001b[38;5;124m\"\u001b[39m)\n\u001b[0;32m    440\u001b[0m \u001b[38;5;28mself\u001b[39m\u001b[38;5;241m.\u001b[39mis_connected \u001b[38;5;241m=\u001b[39m \u001b[38;5;28;01mTrue\u001b[39;00m\n",
      "\u001b[1;31mConnectionRefusedError\u001b[0m: [WinError 10061] No connection could be made because the target machine actively refused it"
     ]
    }
   ],
   "source": [
    "#Training the model\n",
    "\n",
    "rf_cv_model = rf_crossval.fit(train_data_rf)"
   ]
  },
  {
   "cell_type": "code",
   "execution_count": null,
   "metadata": {
    "id": "EDlDMhQqdgT7"
   },
   "outputs": [],
   "source": [
    "#The best model\n",
    "\n",
    "best_rf_model = rf_cv_model.bestModel\n",
    "\n",
    "#Predictions on the test data\n",
    "\n",
    "rf_cv_predictions = best_rf_model.transform(test_data_rf)"
   ]
  },
  {
   "cell_type": "code",
   "execution_count": null,
   "metadata": {
    "id": "HJJQ_XKtdroD"
   },
   "outputs": [],
   "source": [
    "#Evaluating the cv random froest model\n",
    "\n",
    "rf_cv_accuracy = accuracy_evaluator.evaluate(rf_cv_predictions)\n",
    "rf_cv_weightedPrecision = precision_evaluator.evaluate(rf_cv_predictions)\n",
    "rf_cv_weightedRecall = recall_evaluator.evaluate(rf_cv_predictions)\n",
    "rf_cv_f1 = f1_evaluator.evaluate(rf_cv_predictions)\n",
    "\n",
    "print(f\"CV RF Model Accuracy: {rf_cv_accuracy: .2f}\")\n",
    "print(f\"CV RF Model Weighted Precision: {rf_cv_weightedPrecision: .2f}\")\n",
    "print(f\"CV RF Model Weighted Recall: {rf_cv_weightedRecall: .2f}\")\n",
    "print(f\"CV RF Model f1: {rf_cv_f1: .2f}\")"
   ]
  },
  {
   "cell_type": "code",
   "execution_count": null,
   "metadata": {
    "id": "xPkwkiUAf5QE"
   },
   "outputs": [],
   "source": [
    "#Preview first three rows of the svm prediction\n",
    "\n",
    "cv_rf_predicted= rf_cv_predictions.select(\"label\", \"prediction\", \"features\")\n",
    "cv_rf_predicted.show(3)"
   ]
  },
  {
   "cell_type": "code",
   "execution_count": null,
   "metadata": {
    "id": "DVED88KtejEt"
   },
   "outputs": [],
   "source": [
    "#Extract feature importances\n",
    "cv_rf_feature_importances = best_rf_model.featureImportances\n",
    "\n",
    "#Matching features to their importances\n",
    "cv_rf_importances = list(zip(feature_columns, cv_rf_feature_importances))\n",
    "\n",
    "#Sort the feature importances in descending order\n",
    "sorted_cv_rf_importances = sorted(cv_rf_importances, key=lambda x: x[1], reverse=True)"
   ]
  },
  {
   "cell_type": "code",
   "execution_count": null,
   "metadata": {
    "id": "BOkQ3ghOe4UW"
   },
   "outputs": [],
   "source": [
    "cv_rf_features_ranking = pd.DataFrame(sorted_cv_rf_importances, columns=['Feature', 'CV_RF_Importance'])\n",
    "cv_rf_features_ranking"
   ]
  },
  {
   "cell_type": "markdown",
   "metadata": {
    "id": "U11E2PTcgGuo"
   },
   "source": [
    "**GRADIENT-BOOSTED TREE (GBT) CLASSIFIER MODEL**"
   ]
  },
  {
   "cell_type": "code",
   "execution_count": null,
   "metadata": {
    "id": "n9omZj8rfMcC"
   },
   "outputs": [],
   "source": [
    "#Copying transformed dataset for the GBT model\n",
    "\n",
    "gbt_data = final_data\n",
    "gbt_data.printSchema()"
   ]
  },
  {
   "cell_type": "code",
   "execution_count": null,
   "metadata": {
    "id": "KyJCS6Cgg7Lm"
   },
   "outputs": [],
   "source": [
    "#Split the data into training and test sets\n",
    "\n",
    "train_data_gbt, test_data_gbt = gbt_data.randomSplit([0.7, 0.3], seed=20)"
   ]
  },
  {
   "cell_type": "code",
   "execution_count": null,
   "metadata": {
    "id": "2zIGP1axg9sv"
   },
   "outputs": [],
   "source": [
    "# Initialize Gradient-Boosted Trees classifier\n",
    "\n",
    "gbt = GBTClassifier(featuresCol=\"features\", labelCol=\"label\", maxIter=50)"
   ]
  },
  {
   "cell_type": "code",
   "execution_count": null,
   "metadata": {
    "id": "80FLFfo8hAXx"
   },
   "outputs": [],
   "source": [
    "# Trainning the GBT model\n",
    "\n",
    "gbt_model = gbt.fit(train_data_gbt)"
   ]
  },
  {
   "cell_type": "code",
   "execution_count": null,
   "metadata": {
    "id": "A2fhEH0xhDTY"
   },
   "outputs": [],
   "source": [
    "#Prediction on the test set\n",
    "\n",
    "gbt_predictions = gbt_model.transform(test_data_gbt)"
   ]
  },
  {
   "cell_type": "code",
   "execution_count": null,
   "metadata": {
    "id": "SEhW2ze4hK2l"
   },
   "outputs": [],
   "source": [
    "#Evaluating the GBT model\n",
    "\n",
    "gbt_accuracy = accuracy_evaluator.evaluate(gbt_predictions)\n",
    "gbt_weightedPrecision = precision_evaluator.evaluate(gbt_predictions)\n",
    "gbt_weightedRecall = recall_evaluator.evaluate(gbt_predictions)\n",
    "gbt_f1 = f1_evaluator.evaluate(gbt_predictions)\n",
    "\n",
    "print(f\"Gradient Boost Tree Model Accuracy: {gbt_accuracy: .2f}\")\n",
    "print(f\"Gradient Boost Tree Model Weighted Precision: {gbt_weightedPrecision: .2f}\")\n",
    "print(f\"Gradient Boost Tree Model Weighted Recall: {gbt_weightedRecall: .2f}\")\n",
    "print(f\"Gradient Boost Tree Model f1: {gbt_f1: .2f}\")"
   ]
  },
  {
   "cell_type": "code",
   "execution_count": null,
   "metadata": {
    "id": "b-voRkGIhsft"
   },
   "outputs": [],
   "source": [
    "#Preview first three rows of the GBT prediction\n",
    "\n",
    "gbt_predicted= gbt_predictions.select(\"label\", \"prediction\", \"features\")\n",
    "gbt_predicted.show(3)"
   ]
  },
  {
   "cell_type": "code",
   "execution_count": null,
   "metadata": {
    "id": "xpUYvbgLiC4p"
   },
   "outputs": [],
   "source": [
    "# Extracting feature importances from GBT model\n",
    "gbt_importances = gbt_model.featureImportances.toArray()\n",
    "\n",
    "# Combine with feature names\n",
    "gbt_feature_importance = list(zip(feature_columns, gbt_importances))\n",
    "\n",
    "#Sorting by importances\n",
    "gbt_sorted_importance = sorted(gbt_feature_importance, key=lambda x: x[1], reverse=True)"
   ]
  },
  {
   "cell_type": "code",
   "execution_count": null,
   "metadata": {
    "id": "dF6uHpkLiGw_"
   },
   "outputs": [],
   "source": [
    "gbt_feature_ranking = pd.DataFrame(gbt_sorted_importance, columns=['Feature', 'GBT_Importance'])\n",
    "gbt_feature_ranking"
   ]
  },
  {
   "cell_type": "markdown",
   "metadata": {
    "id": "ybJOvHSliSFx"
   },
   "source": [
    "*Hyperparameter tunning for the Gradient Boosted Tree Classifer*"
   ]
  },
  {
   "cell_type": "code",
   "execution_count": null,
   "metadata": {
    "id": "PHz4mzIHiRIT"
   },
   "outputs": [],
   "source": [
    "# Parameter grid for the GBT hyperparameter tuning\n",
    "\n",
    "gbt_param_grid = (ParamGridBuilder()\n",
    "              .addGrid(gbt.maxIter, [10, 50, 100])\n",
    "              .addGrid(gbt.maxDepth, [3, 5, 7])\n",
    "              .addGrid(gbt.stepSize, [0.1, 0.2])\n",
    "              .build())"
   ]
  },
  {
   "cell_type": "code",
   "execution_count": null,
   "metadata": {
    "id": "1-dd3CSciZMp"
   },
   "outputs": [],
   "source": [
    "# Defining the Cross-validator for the GBT\n",
    "\n",
    "gbt_crossval = CrossValidator(estimator=gbt,\n",
    "                          estimatorParamMaps=gbt_param_grid,\n",
    "                          evaluator=accuracy_evaluator,\n",
    "                          numFolds=3)"
   ]
  },
  {
   "cell_type": "code",
   "execution_count": null,
   "metadata": {
    "id": "DFqwxRFeimWg"
   },
   "outputs": [],
   "source": [
    "#Performing the GBT cross-validation\n",
    "\n",
    "gbt_cv_model = gbt_crossval.fit(train_data_gbt)"
   ]
  },
  {
   "cell_type": "code",
   "execution_count": null,
   "metadata": {
    "id": "koUaUrKfipg6"
   },
   "outputs": [],
   "source": [
    "# Extracting GBT Best model\n",
    "\n",
    "gbt_best_model = gbt_cv_model.bestModel\n",
    "\n",
    "#Predictions on the test data\n",
    "\n",
    "gbt_cv_predictions = gbt_best_model.transform(test_data_gbt)"
   ]
  },
  {
   "cell_type": "code",
   "execution_count": null,
   "metadata": {
    "id": "ff0JY4pPi4z7"
   },
   "outputs": [],
   "source": [
    "#Evaluating the cv GBT model\n",
    "\n",
    "gbt_cv_accuracy = accuracy_evaluator.evaluate(gbt_cv_predictions)\n",
    "gbt_cv_weightedPrecision = precision_evaluator.evaluate(gbt_cv_predictions)\n",
    "gbt_cv_weightedRecall = recall_evaluator.evaluate(gbt_cv_predictions)\n",
    "gbt_cv_f1 = f1_evaluator.evaluate(gbt_cv_predictions)\n",
    "\n",
    "print(f\"CV GBT Model Accuracy: {gbt_cv_accuracy: .2f}\")\n",
    "print(f\"CV GBT Model Weighted Precision: {gbt_cv_weightedPrecision: .2f}\")\n",
    "print(f\"CV GBT Model Weighted Recall: {gbt_cv_weightedRecall: .2f}\")\n",
    "print(f\"CV GBT Model f1: {gbt_cv_f1: .2f}\")"
   ]
  },
  {
   "cell_type": "code",
   "execution_count": null,
   "metadata": {
    "id": "CCA1iy3ok4Az"
   },
   "outputs": [],
   "source": [
    "#Preview first three rows of the GBT prediction\n",
    "\n",
    "cv_gbt_predicted= gbt_cv_predictions.select(\"label\", \"prediction\", \"features\")\n",
    "cv_gbt_predicted.show(3)"
   ]
  },
  {
   "cell_type": "code",
   "execution_count": null,
   "metadata": {
    "id": "jDA1j3WFvbqM"
   },
   "outputs": [],
   "source": [
    "# Extracting feature importances from tuned GBT model\n",
    "cv_gbt_importances = gbt_best_model.featureImportances.toArray()\n",
    "\n",
    "# Combine with feature names\n",
    "cv_gbt_feature_importance = list(zip(feature_columns, cv_gbt_importances))\n",
    "\n",
    "#Sorting by importances\n",
    "cv_gbt_sorted_importance = sorted(cv_gbt_feature_importance, key=lambda x: x[1], reverse=True)"
   ]
  },
  {
   "cell_type": "code",
   "execution_count": null,
   "metadata": {
    "id": "cC92Oxzn-Fkl"
   },
   "outputs": [],
   "source": [
    "cv_gbt_feature_ranking = pd.DataFrame(cv_gbt_sorted_importance, columns=['Feature', 'GBT_CV_Importance'])\n",
    "cv_gbt_feature_ranking"
   ]
  }
 ],
 "metadata": {
  "colab": {
   "provenance": []
  },
  "kernelspec": {
   "display_name": "Python 3 (ipykernel)",
   "language": "python",
   "name": "python3"
  },
  "language_info": {
   "codemirror_mode": {
    "name": "ipython",
    "version": 3
   },
   "file_extension": ".py",
   "mimetype": "text/x-python",
   "name": "python",
   "nbconvert_exporter": "python",
   "pygments_lexer": "ipython3",
   "version": "3.11.10"
  }
 },
 "nbformat": 4,
 "nbformat_minor": 1
}
